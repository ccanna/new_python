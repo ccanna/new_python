{
 "cells": [
  {
   "cell_type": "markdown",
   "metadata": {},
   "source": [
    "### 建立一個正規則表達式\n",
    "- 有效的電話號碼:(123) 456-7890\n",
    "- 無效的電話號碼:123-456-7890\n",
    "\n",
    "- 有效日期:2024-05-29\n",
    "- 無效日期:2024-13-01\n"
   ]
  },
  {
   "cell_type": "code",
   "execution_count": null,
   "metadata": {},
   "outputs": [],
   "source": [
    "'''\n",
    "有效日期:2024-05-29\n",
    "無效日期:2024-13-01\n",
    "規範的寫法\n",
    "'''\n",
    "\n",
    "pattern = r'\\d{4}-(0[1-9]|1[0-2])-(0[1-9]|[12][0-9]|3[0-1])'"
   ]
  },
  {
   "cell_type": "code",
   "execution_count": 11,
   "metadata": {},
   "outputs": [
    {
     "name": "stdout",
     "output_type": "stream",
     "text": [
      "無效的電話號碼:123-456-7890\n",
      "無效日期:2024-13-01\n"
     ]
    }
   ],
   "source": [
    "import re\n",
    "\n",
    "phone_num =input(\"請輸入有效日期(xxx) xxx-xxxx:\")\n",
    "phoneNumberRegex:re.Pattern = re.compile(r'\\(\\d{3}\\) \\d{3}-\\d{4}')     \n",
    "match:re.Match | None = re.match(phoneNumberRegex, phone_num)\n",
    "if match is not None:\n",
    "    print(f\"有效的電話號碼:{match.group()}\")\n",
    "else:\n",
    "    print(f\"無效的電話號碼:{phone_num}\")\n",
    "\n",
    "\n",
    "date =input(\"請輸入有效日期xxxx-xx-xx:\")\n",
    "daterangeRegex:re.Pattern = re.compile(r'\\d{4}-(0[1-9]|1[0-2])-(0[1-9]|[12][0-9]|3[0-1])')      #(0[1-9]|1[0-9]|2[0-9]|3[0-1])')的縮寫版，把日期 1x跟 2x 的十位數合併再一起  寫成[12] \n",
    "match1:re.Match | None = re.match(daterangeRegex, date)\n",
    "if match1 is not None:\n",
    "    print(f\"有效的日期:{match1.group()}\")\n",
    "else:\n",
    "    print(f\"無效日期:{date}\")"
   ]
  },
  {
   "cell_type": "code",
   "execution_count": null,
   "metadata": {},
   "outputs": [],
   "source": []
  },
  {
   "cell_type": "code",
   "execution_count": null,
   "metadata": {},
   "outputs": [],
   "source": []
  }
 ],
 "metadata": {
  "kernelspec": {
   "display_name": "Python 3",
   "language": "python",
   "name": "python3"
  },
  "language_info": {
   "codemirror_mode": {
    "name": "ipython",
    "version": 3
   },
   "file_extension": ".py",
   "mimetype": "text/x-python",
   "name": "python",
   "nbconvert_exporter": "python",
   "pygments_lexer": "ipython3",
   "version": "3.10.14"
  }
 },
 "nbformat": 4,
 "nbformat_minor": 2
}
