{
 "cells": [
  {
   "cell_type": "code",
   "execution_count": 1,
   "metadata": {},
   "outputs": [
    {
     "name": "stdout",
     "output_type": "stream",
     "text": [
      "輸入發生錯誤:invalid literal for int() with base 10: '56w'\n"
     ]
    }
   ],
   "source": [
    "try:\n",
    "\n",
    "    score:int|float = int(input(\"請輸入學生分數(最高300分):\"))\n",
    "\n",
    "    if score <= 300:\n",
    "\n",
    "        add:str = input(\"是否符合加分條件? (y/n)\")\n",
    "\n",
    "        if add == \"y\" :\n",
    "            score *= 1.05\n",
    "            \n",
    "            if score > 300:\n",
    "                score = 300\n",
    "\n",
    "        print(f\"學生的分數是:{round(score)}\")\n",
    "\n",
    "    else :\n",
    "\n",
    "        print(\"您輸入的分數超過300分\")\n",
    "\n",
    "except Exception as e:\n",
    "    \n",
    "    print(f\"輸入發生錯誤:{e}\")"
   ]
  },
  {
   "cell_type": "markdown",
   "metadata": {},
   "source": [
    "### 輸入:\n",
    "- 請輸入姓名:xxxx\n",
    "- 請輸入身高(cm):\n",
    "- 請輸入體重(kg):\n",
    "### 輸出:\n",
    "- xxxx,您的BMI:25.52\n",
    "### 錯誤:\n",
    "- 格式錯誤:xxxxxxxxxxxxx"
   ]
  },
  {
   "cell_type": "markdown",
   "metadata": {},
   "source": [
    "BMI值計算公式: BMI = 體重(公斤) / 身高2(公尺2)"
   ]
  },
  {
   "cell_type": "code",
   "execution_count": 1,
   "metadata": {},
   "outputs": [
    {
     "name": "stdout",
     "output_type": "stream",
     "text": [
      "王曉明,您的BMI值為:16.33\n",
      "建議多補充營養食物!\n"
     ]
    }
   ],
   "source": [
    "try:\n",
    "\n",
    "    name = input(\"請輸入姓名:\")\n",
    "    height:int = int(input(\"請輸入身高(cm):\"))\n",
    "    weight:int = int(input(\"請輸入體重(kg)\"))\n",
    "\n",
    "    bmi = round(weight / (height/100)**2, ndigits=2)\n",
    "\n",
    "    print(f\"{name},您的BMI值為:{bmi}\")\n",
    "\n",
    "    if bmi >=18.5 and bmi <= 24:\n",
    "        print(\"恭喜!標準體態!\")\n",
    "\n",
    "    if bmi >24:\n",
    "        print(\"建議每周333運動!\")\n",
    "\n",
    "    if bmi <18.5:\n",
    "        print  (\"建議多補充營養食物!\")\n",
    "\n",
    "except Exception as e:\n",
    "    print (f\"格式錯誤:{e}\")"
   ]
  },
  {
   "cell_type": "markdown",
   "metadata": {},
   "source": []
  },
  {
   "cell_type": "code",
   "execution_count": null,
   "metadata": {},
   "outputs": [],
   "source": []
  },
  {
   "cell_type": "code",
   "execution_count": null,
   "metadata": {},
   "outputs": [],
   "source": [
    "\n"
   ]
  }
 ],
 "metadata": {
  "kernelspec": {
   "display_name": "Python 3",
   "language": "python",
   "name": "python3"
  },
  "language_info": {
   "codemirror_mode": {
    "name": "ipython",
    "version": 3
   },
   "file_extension": ".py",
   "mimetype": "text/x-python",
   "name": "python",
   "nbconvert_exporter": "python",
   "pygments_lexer": "ipython3",
   "version": "3.10.14"
  }
 },
 "nbformat": 4,
 "nbformat_minor": 2
}
