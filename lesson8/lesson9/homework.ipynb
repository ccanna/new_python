{
 "cells": [
  {
   "cell_type": "markdown",
   "metadata": {},
   "source": [
    "- 建立class BMI\n",
    "- 建立attribute-> name, height, weight\n",
    "- 建立property -> bmi\n",
    "- 建立實體方法 def status(self) ->str\n",
    "\n",
    "### 輸入\n",
    "- 請輸入姓名:\n",
    "- 請輸入身高:\n",
    "- 請輸入體重:\n",
    "\n",
    "### 輸出\n",
    "- xxx您好:\n",
    "- 您的BMI值是24.24:\n",
    "- 您的體重:正常"
   ]
  },
  {
   "cell_type": "code",
   "execution_count": 3,
   "metadata": {},
   "outputs": [],
   "source": [
    "class BMI():\n",
    "    def __init__(self, n:str, h:int, w:int):\n",
    "        super().__init__()\n",
    "        self.name = n         #attribute\n",
    "        self.height = h      #attribute\n",
    "        self.weight = w      #attribute\n",
    "        \n",
    "\n",
    "      \n",
    "    \n",
    "    def __repr__(self):\n",
    "        message = f\"請輸入姓名:{self.name}\\n\"\n",
    "        message += f\"請輸入身高:{self.height}\\n\"\n",
    "        message += f\"請輸入體重:{self.weight}\\n\"\n",
    "        return message\n",
    "    \n",
    "    #建立property的語法\n",
    "    @property\n",
    "    def bmi(self):\n",
    "        return self.weight / (self.height / 100) ** 2\n",
    "        \n",
    "        \n",
    " #以下還沒改\n",
    "    \n",
    "    #建立實體方法\n",
    "    def average(self)->float:\n",
    "        return self.sum / 3\n",
    "    "
   ]
  },
  {
   "cell_type": "code",
   "execution_count": 2,
   "metadata": {},
   "outputs": [
    {
     "ename": "NameError",
     "evalue": "name 'Student' is not defined",
     "output_type": "error",
     "traceback": [
      "\u001b[0;31m---------------------------------------------------------------------------\u001b[0m",
      "\u001b[0;31mNameError\u001b[0m                                 Traceback (most recent call last)",
      "Cell \u001b[0;32mIn[2], line 1\u001b[0m\n\u001b[0;32m----> 1\u001b[0m s1\u001b[38;5;241m=\u001b[39m \u001b[43mStudent\u001b[49m(n\u001b[38;5;241m=\u001b[39m\u001b[38;5;124m\"\u001b[39m\u001b[38;5;124m王小明\u001b[39m\u001b[38;5;124m\"\u001b[39m, c\u001b[38;5;241m=\u001b[39m\u001b[38;5;241m86\u001b[39m, e\u001b[38;5;241m=\u001b[39m\u001b[38;5;241m92\u001b[39m, m\u001b[38;5;241m=\u001b[39m\u001b[38;5;241m75\u001b[39m)\n\u001b[1;32m      2\u001b[0m \u001b[38;5;28mprint\u001b[39m(s1)\n\u001b[1;32m      3\u001b[0m \u001b[38;5;28mprint\u001b[39m(\u001b[38;5;124mf\u001b[39m\u001b[38;5;124m\"\u001b[39m\u001b[38;5;124m總分為:\u001b[39m\u001b[38;5;132;01m{\u001b[39;00ms1\u001b[38;5;241m.\u001b[39msum\u001b[38;5;132;01m}\u001b[39;00m\u001b[38;5;124m\"\u001b[39m)\n",
      "\u001b[0;31mNameError\u001b[0m: name 'Student' is not defined"
     ]
    }
   ],
   "source": [
    "s1= Student(n=\"王小明\", c=86, e=92, m=75)\n",
    "print(s1)\n",
    "print(f\"總分為:{s1.sum}\")\n",
    "print(f\"平均值為:{s1.average():.2f}\")\n",
    "\n",
    "print('============================')\n",
    "\n",
    "s2= Student(n=\"Tom Wang\", c=98, e=75, m=68)\n",
    "print(s2)\n",
    "print(f\"總分為:{s2.sum}\")\n",
    "print(f\"平均值為:{s2.average():.2f}\")\n"
   ]
  },
  {
   "cell_type": "code",
   "execution_count": null,
   "metadata": {},
   "outputs": [],
   "source": [
    "from dataclasses import dataclass\n",
    "\n",
    "@dataclass\n",
    "class Student():\n",
    "    name:str\n",
    "    chinese:int\n",
    "    english:int\n",
    "    math:int\n",
    "\n",
    "    @property\n",
    "    def sum(self):\n",
    "        return self.chinese + self.english + self.math\n",
    "    \n",
    "    def average(self)->float:\n",
    "        return self.sum / 3\n",
    "    \n",
    "s1 = Student(\"王小明\",78,98,60)\n",
    "print(s1)\n",
    "print(f\"總分為:{s1.sum}\")\n",
    "print(f\"平均值為:{s1.average():.2f}\")\n",
    "\n",
    "print('============================')"
   ]
  }
 ],
 "metadata": {
  "kernelspec": {
   "display_name": "Python 3",
   "language": "python",
   "name": "python3"
  },
  "language_info": {
   "codemirror_mode": {
    "name": "ipython",
    "version": 3
   },
   "file_extension": ".py",
   "mimetype": "text/x-python",
   "name": "python",
   "nbconvert_exporter": "python",
   "pygments_lexer": "ipython3",
   "version": "3.10.14"
  }
 },
 "nbformat": 4,
 "nbformat_minor": 2
}
