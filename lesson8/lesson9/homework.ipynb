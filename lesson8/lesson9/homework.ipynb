{
 "cells": [
  {
   "cell_type": "markdown",
   "metadata": {},
   "source": [
    "- 建立class BMI\n",
    "- 建立attribute-> name, height, weight\n",
    "- 建立property -> bmi\n",
    "- 建立實體方法 def status(self) ->str\n",
    "\n",
    "### 輸入\n",
    "- 請輸入姓名:\n",
    "- 請輸入身高:\n",
    "- 請輸入體重:\n",
    "\n",
    "### 輸出\n",
    "- xxx您好:\n",
    "- 您的BMI值是24.24:\n",
    "- 您的體重:正常"
   ]
  },
  {
   "cell_type": "code",
   "execution_count": null,
   "metadata": {},
   "outputs": [],
   "source": [
    "class BMI():\n",
    "    def __init__(self, n:str, h:int, w:int):\n",
    "        super().__init__()\n",
    "        self.name = n         #attribute\n",
    "        self.height = h      #attribute\n",
    "        self.weight = w      #attribute\n",
    "        \n",
    "\n",
    "        #以下還沒改\n",
    "    \n",
    "    def __repr__(self):\n",
    "        message = f\"您的名字是:{self.name}\\n\"\n",
    "        message += f\"國文:{self.chinese}\\n\"\n",
    "        message += f\"英文:{self.english}\\n\"\n",
    "        message += f\"數學:{self.math}\\n\"\n",
    "        return message\n",
    "    \n",
    "    #建立property的語法\n",
    "    @property\n",
    "    def sum(self):\n",
    "        return self.chinese + self.english + self.math\n",
    "    \n",
    "    #建立實體方法\n",
    "    def average(self)->float:\n",
    "        return self.sum / 3\n",
    "    "
   ]
  },
  {
   "cell_type": "code",
   "execution_count": null,
   "metadata": {},
   "outputs": [],
   "source": [
    "s1= Student(n=\"王小明\", c=86, e=92, m=75)\n",
    "print(s1)\n",
    "print(f\"總分為:{s1.sum}\")\n",
    "print(f\"平均值為:{s1.average():.2f}\")\n",
    "\n",
    "print('============================')\n",
    "\n",
    "s2= Student(n=\"Tom Wang\", c=98, e=75, m=68)\n",
    "print(s2)\n",
    "print(f\"總分為:{s2.sum}\")\n",
    "print(f\"平均值為:{s2.average():.2f}\")"
   ]
  }
 ],
 "metadata": {
  "language_info": {
   "name": "python"
  }
 },
 "nbformat": 4,
 "nbformat_minor": 2
}
