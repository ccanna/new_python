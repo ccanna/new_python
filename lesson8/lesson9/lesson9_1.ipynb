{
 "cells": [
  {
   "cell_type": "code",
   "execution_count": 1,
   "metadata": {},
   "outputs": [
    {
     "data": {
      "text/plain": [
       "__main__.Person"
      ]
     },
     "execution_count": 1,
     "metadata": {},
     "output_type": "execute_result"
    }
   ],
   "source": [
    "#自訂的類別(第一個字大寫)\n",
    "class Person():\n",
    "    pass\n",
    "\n",
    "p1 = Person()\n",
    "type(p1)"
   ]
  },
  {
   "cell_type": "code",
   "execution_count": 6,
   "metadata": {},
   "outputs": [
    {
     "name": "stdout",
     "output_type": "stream",
     "text": [
      "p1的name:王小名\n",
      "p2的name:王小名\n"
     ]
    }
   ],
   "source": [
    "class Person():\n",
    "    def __init__(self):\n",
    "        super().__init__()\n",
    "        self.name = \"王小名\"\n",
    "\n",
    "p1 = Person()\n",
    "print(f'p1的name:{p1.name}')\n",
    "\n",
    "p2 = Person()\n",
    "print(f'p2的name:{p2.name}')"
   ]
  },
  {
   "cell_type": "code",
   "execution_count": 3,
   "metadata": {},
   "outputs": [
    {
     "name": "stdout",
     "output_type": "stream",
     "text": [
      "p1的name:王小明\n",
      "p2的name:Tom Wang\n"
     ]
    }
   ],
   "source": [
    "#自訂的attribute,必須有自訂的init\n",
    "#自訂的init\n",
    "#建立attribute name\n",
    "\n",
    "class Person():\n",
    "    def __init__ (self,n:str):\n",
    "        super().__init__()\n",
    "        self.name = n\n",
    "    \n",
    "p1 = Person('王小明')\n",
    "print(f'p1的name:{p1.name}')\n",
    "\n",
    "p2 = Person('Tom Wang')\n",
    "print(f'p2的name:{p2.name}')"
   ]
  },
  {
   "cell_type": "code",
   "execution_count": 8,
   "metadata": {},
   "outputs": [
    {
     "name": "stdout",
     "output_type": "stream",
     "text": [
      "p1的name:王小明\n",
      "<__main__.Person object at 0x7991ee722680>\n",
      "p2的name:Tom Wang\n",
      "<__main__.Person object at 0x7991ee62e740>\n"
     ]
    }
   ],
   "source": [
    "\n",
    "class Person():\n",
    "    def __init__ (self,n:str):\n",
    "        super().__init__()\n",
    "        self.name = n\n",
    "    \n",
    "p1 = Person('王小明')\n",
    "print(f'p1的name:{p1.name}')\n",
    "print (p1)\n",
    "\n",
    "p2 = Person('Tom Wang')\n",
    "print(f'p2的name:{p2.name}')\n",
    "print (p2)"
   ]
  },
  {
   "cell_type": "code",
   "execution_count": 9,
   "metadata": {},
   "outputs": [
    {
     "name": "stdout",
     "output_type": "stream",
     "text": [
      "p1的name:王小明\n",
      "我是person的實體，我的名字叫王小明\n",
      "p2的name:Tom Wang\n",
      "我是person的實體，我的名字叫Tom Wang\n"
     ]
    }
   ],
   "source": [
    "#自訂的attribute,必須有自訂的init\n",
    "#自訂的init\n",
    "#建立attribute name\n",
    "#自訂的__repre__\n",
    "\n",
    "class Person():\n",
    "    def __init__ (self,n:str):\n",
    "        super().__init__()\n",
    "        self.name = n\n",
    "\n",
    "    def __repr__(self):\n",
    "        return f\"我是person的實體，我的名字叫{self.name}\"\n",
    "    \n",
    "p1 = Person('王小明')\n",
    "print(f'p1的name:{p1.name}')\n",
    "print (p1)\n",
    "\n",
    "p2 = Person('Tom Wang')\n",
    "print(f'p2的name:{p2.name}')\n",
    "print (p2)"
   ]
  },
  {
   "cell_type": "code",
   "execution_count": 16,
   "metadata": {},
   "outputs": [],
   "source": [
    "#繼承\n",
    "\n",
    "class Person():\n",
    "    def __init__ (self,n:str):\n",
    "        super().__init__()\n",
    "        self.name = n\n",
    "\n",
    "    def __repr__(self):\n",
    "        return f\"我是person的實體，我的名字叫{self.name}\"\n",
    "\n",
    "class Student(Person):\n",
    "    def __init__  (self,n:str, s:int):\n",
    "        super().__init__(n)\n",
    "        self.scores = s\n",
    "    \n",
    "    def __repr__ (self):\n",
    "        before = super().__repr__()\n",
    "        return f'{before},總分為{self.scores}'\n",
    "    \n",
    "\n",
    "    "
   ]
  },
  {
   "cell_type": "code",
   "execution_count": 17,
   "metadata": {},
   "outputs": [
    {
     "name": "stdout",
     "output_type": "stream",
     "text": [
      "王小明 278\n",
      "我是person的實體，我的名字叫王小明,總分為278\n",
      "Tom Wang 245\n",
      "我是person的實體，我的名字叫Tom Wang,總分為245\n"
     ]
    }
   ],
   "source": [
    "s1 = Student('王小明',278)\n",
    "print(s1.name, s1.scores)\n",
    "print(s1)\n",
    "\n",
    "s2 = Student('Tom Wang',245)\n",
    "print(s2.name, s2.scores)\n",
    "print(s2)\n"
   ]
  }
 ],
 "metadata": {
  "kernelspec": {
   "display_name": "Python 3",
   "language": "python",
   "name": "python3"
  },
  "language_info": {
   "codemirror_mode": {
    "name": "ipython",
    "version": 3
   },
   "file_extension": ".py",
   "mimetype": "text/x-python",
   "name": "python",
   "nbconvert_exporter": "python",
   "pygments_lexer": "ipython3",
   "version": "3.10.14"
  }
 },
 "nbformat": 4,
 "nbformat_minor": 2
}
