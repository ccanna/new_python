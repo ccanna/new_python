{
 "cells": [
  {
   "cell_type": "code",
   "execution_count": 1,
   "metadata": {},
   "outputs": [],
   "source": [
    "def menu(wine:str, entree:str, dessert:str)->None:\n",
    "    print(f\"主餐:{entree}\")\n",
    "    print(f\"酒類:{wine}\")\n",
    "    print(f\"甜點:{dessert}\")"
   ]
  },
  {
   "cell_type": "code",
   "execution_count": 8,
   "metadata": {},
   "outputs": [
    {
     "name": "stdout",
     "output_type": "stream",
     "text": [
      "主餐:牛排\n",
      "酒類:白酒\n",
      "甜點:蛋糕\n",
      "主餐:魚排\n",
      "酒類:紅酒\n",
      "甜點:冰淇淋\n"
     ]
    }
   ],
   "source": [
    "#引數值的呼叫，必須【依據參數】的順序，非print的順序\n",
    "\n",
    "menu('白酒','牛排','蛋糕')\n",
    "menu('紅酒','魚排','冰淇淋')\n"
   ]
  },
  {
   "cell_type": "code",
   "execution_count": 10,
   "metadata": {},
   "outputs": [
    {
     "name": "stdout",
     "output_type": "stream",
     "text": [
      "主餐:牛排\n",
      "酒類:白酒\n",
      "甜點:蛋糕\n",
      "==============================\n",
      "主餐:牛排\n",
      "酒類:白酒\n",
      "甜點:蛋糕\n"
     ]
    }
   ],
   "source": [
    "def menu(wine:str, entree:str, dessert:str)->None:\n",
    "    print(f\"主餐:{entree}\")\n",
    "    print(f\"酒類:{wine}\")\n",
    "    print(f\"甜點:{dessert}\")\n",
    "\n",
    "#引述名稱的呼叫，可以不依照順序\n",
    "menu(wine='白酒', entree='牛排', dessert='蛋糕')\n",
    "print('==============================')\n",
    "menu(entree='牛排', wine='白酒',dessert='蛋糕')"
   ]
  },
  {
   "cell_type": "code",
   "execution_count": 14,
   "metadata": {},
   "outputs": [
    {
     "name": "stdout",
     "output_type": "stream",
     "text": [
      "主餐:牛排\n",
      "酒類:白酒\n",
      "甜點:蛋糕\n",
      "==============================\n",
      "主餐:牛排\n",
      "酒類:白酒\n",
      "甜點:蛋糕\n"
     ]
    }
   ],
   "source": [
    "def menu(wine:str, entree:str, dessert:str)->None:\n",
    "    print(f\"主餐:{entree}\")\n",
    "    print(f\"酒類:{wine}\")\n",
    "    print(f\"甜點:{dessert}\")\n",
    "\n",
    "#混和呼叫\n",
    "#引數值呼叫+引述名稱的呼叫\n",
    "#引數值呼叫要依順序，引述名稱呼叫可不依順序\n",
    "menu ('白酒',dessert='蛋糕', entree='牛排')\n",
    "print('==============================')\n",
    "menu('白酒','牛排',dessert='蛋糕')"
   ]
  },
  {
   "cell_type": "code",
   "execution_count": 18,
   "metadata": {},
   "outputs": [
    {
     "name": "stdout",
     "output_type": "stream",
     "text": [
      "主餐:雞排\n",
      "酒類:紅酒\n",
      "甜點:奶昔\n",
      "==============================\n",
      "主餐:雞排\n",
      "酒類:紅酒\n",
      "甜點:奶昔\n",
      "==============================\n",
      "主餐:雞排\n",
      "酒類:紅酒\n",
      "甜點:蛋糕\n",
      "==============================\n"
     ]
    }
   ],
   "source": [
    "#參數如果有default value\n",
    "#參數如果有default value,一定要定義在最後面\n",
    "def menu(wine:str, entree:str, dessert:str='奶昔')->None:\n",
    "    print(f\"主餐:{entree}\")\n",
    "    print(f\"酒類:{wine}\")\n",
    "    print(f\"甜點:{dessert}\")\n",
    "\n",
    "#引數值呼叫\n",
    "menu ('紅酒','雞排')\n",
    "print('==============================')\n",
    "\n",
    "#引述名稱呼叫，第一個用引數後面就都要用引數\n",
    "menu(entree='雞排',wine='紅酒')\n",
    "print('==============================')\n",
    "\n",
    "#混和呼叫，並且我不要def的商品\n",
    "menu ('紅酒','雞排',dessert='蛋糕')\n",
    "print('==============================')\n",
    "\n",
    "#menu,呼叫時最少需要2個引數\n"
   ]
  },
  {
   "cell_type": "code",
   "execution_count": null,
   "metadata": {},
   "outputs": [],
   "source": []
  }
 ],
 "metadata": {
  "kernelspec": {
   "display_name": "Python 3",
   "language": "python",
   "name": "python3"
  },
  "language_info": {
   "codemirror_mode": {
    "name": "ipython",
    "version": 3
   },
   "file_extension": ".py",
   "mimetype": "text/x-python",
   "name": "python",
   "nbconvert_exporter": "python",
   "pygments_lexer": "ipython3",
   "version": "3.10.14"
  }
 },
 "nbformat": 4,
 "nbformat_minor": 2
}
