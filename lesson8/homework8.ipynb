{
 "cells": [
  {
   "cell_type": "markdown",
   "metadata": {},
   "source": [
    "- 建立bmi的function,會傳出bmi\n",
    "- 建立get_status,會傳出字串\n",
    "- 可以使用pypi"
   ]
  },
  {
   "cell_type": "code",
   "execution_count": null,
   "metadata": {},
   "outputs": [],
   "source": [
    "import pyinputplus as pyip\n",
    "def bmi(weight:float, height:float)->float:\n",
    "        return round(weight / (height/100)**2, ndigits=2)\n",
    "\n",
    "\n",
    "\n",
    "def get_status(bmi:float)->str:\n",
    "    if bmi <18.5:\n",
    "        remind = '體重過輕'\n",
    "    elif bmi >=18.5 and bmi <24:\n",
    "        remind = '正常體重'\n",
    "    elif bmi >=24 and bmi <27:\n",
    "        remind = '體重過重'\n",
    "    elif bmi >=27 and bmi <30:\n",
    "        remind = '輕度肥胖'\n",
    "    elif bmi >=30 and bmi <35:\n",
    "        remind = '中度肥胖'\n",
    "    else:\n",
    "        remind = '重度肥胖'\n",
    "    return remind\n",
    "name = pyip.inputStr(\"請輸入姓名:\")\n",
    "height = pyip.inputFloat(\"請輸入身高(cm):\")\n",
    "weight = pyip.inputFloat(\"請輸入體重(kg):\")\n",
    "\n",
    "bmi_count= bmi(weight, height)\n",
    "\n",
    "print(f\"{name},您的BMI值為:{bmi_count}\")\n",
    "        \n",
    "print(f\"您目前:{get_status(bmi_count)}\")"
   ]
  },
  {
   "cell_type": "code",
   "execution_count": null,
   "metadata": {},
   "outputs": [],
   "source": []
  }
 ],
 "metadata": {
  "kernelspec": {
   "display_name": "Python 3",
   "language": "python",
   "name": "python3"
  },
  "language_info": {
   "codemirror_mode": {
    "name": "ipython",
    "version": 3
   },
   "file_extension": ".py",
   "mimetype": "text/x-python",
   "name": "python",
   "nbconvert_exporter": "python",
   "pygments_lexer": "ipython3",
   "version": "3.10.14"
  }
 },
 "nbformat": 4,
 "nbformat_minor": 2
}
