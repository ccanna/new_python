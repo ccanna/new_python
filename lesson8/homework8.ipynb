{
 "cells": [
  {
   "cell_type": "markdown",
   "metadata": {},
   "source": [
    "- 建立bmi的function,會傳出bmi\n",
    "- 建立get_status,會傳出字串\n",
    "- 可以使用pypi"
   ]
  },
  {
   "cell_type": "code",
   "execution_count": null,
   "metadata": {},
   "outputs": [],
   "source": [
    "try:\n",
    "\n",
    "    name = input(\"請輸入姓名:\")\n",
    "    height:int = int(input(\"請輸入身高(cm):\"))\n",
    "    weight:int = int(input(\"請輸入體重(kg)\"))\n",
    "\n",
    "    bmi = round(weight / (height/100)**2, ndigits=2)\n",
    "\n",
    "    print(f\"{name},您的BMI值為:{bmi}\")\n",
    "\n",
    "    if bmi >=18.5 and bmi <= 24:\n",
    "        print(\"恭喜!標準體態!\")\n",
    "\n",
    "    if bmi >24:\n",
    "        print(\"建議每周333運動!\")\n",
    "\n",
    "    if bmi <18.5:\n",
    "        print  (\"建議多補充營養食物!\")\n",
    "\n",
    "except Exception as e:\n",
    "    print (f\"格式錯誤:{e}\")"
   ]
  },
  {
   "cell_type": "code",
   "execution_count": null,
   "metadata": {},
   "outputs": [],
   "source": [
    "try:\n",
    "    name = input('請輸入姓名:')\n",
    "\n",
    "    height = float(input('請輸入身高(120~230)(cm):')) \n",
    "    if height<120 or height>230:\n",
    "        raise Exception(\"身高必需大於120同時小於230\")    \n",
    "    weight = float(input('請輸入體重(40~170)(kg):'))\n",
    "    if weight<40 or weight>170:\n",
    "        raise Exception(\"體重必需大於40同時小於170\")\n",
    "    \n",
    "    bmi = weight / (height / 100) ** 2\n",
    "\n",
    "    if bmi <18.5:\n",
    "        remind = '體重過輕'\n",
    "    elif bmi >=18.5 and bmi <24:\n",
    "        remind = '正常體重'\n",
    "    elif bmi >=24 and bmi <27:\n",
    "        remind = '體重過重'\n",
    "    elif bmi >=27 and bmi <30:\n",
    "        remind = '輕度肥胖'\n",
    "    elif bmi >=30 and bmi <35:\n",
    "        remind = '中度肥胖'\n",
    "    else:\n",
    "        remind = '重度肥胖'\n",
    "\n",
    "    print(f'{name}, 您的BMI: {round(bmi,ndigits=2)},{remind}')\n",
    "\n",
    "except Exception as e:\n",
    "\n",
    "    print(f'錯誤: {e}')"
   ]
  },
  {
   "cell_type": "code",
   "execution_count": 1,
   "metadata": {},
   "outputs": [
    {
     "name": "stdout",
     "output_type": "stream",
     "text": [
      "請輸入姓名:'jason' is not an integer.\n",
      "請輸入姓名:'jdkj' is not an integer.\n",
      "請輸入姓名:'djow' is not an integer.\n",
      "請輸入姓名:Blank values are not allowed.\n",
      "請輸入姓名:Blank values are not allowed.\n",
      "請輸入姓名:"
     ]
    }
   ],
   "source": [
    "import pyinputplus as pyip\n",
    "\n",
    "try:\n",
    "\n",
    "    name = pyip.inputInt(\"請輸入姓名:\")\n",
    "    height:int = pyip.inputInt(\"請輸入身高(cm):\"))\n",
    "    weight:int = pyip.inputInt(\"請輸入體重(kg):\"))\n",
    "\n",
    "    def bmi()\n",
    "        bmi = round(weight / (height/100)**2, ndigits=2)\n",
    "\n",
    "        print(f\"{name},您的BMI值為:{bmi}\")\n",
    "\n",
    "    def \n",
    "        if bmi >=18.5 and bmi <= 24:\n",
    "            print(\"恭喜!標準體態!\")\n",
    "\n",
    "        if bmi >24:\n",
    "            print(\"建議每周333運動!\")\n",
    "\n",
    "        if bmi <18.5:\n",
    "            print  (\"建議多補充營養食物!\")\n",
    "\n",
    "except Exception as e:\n",
    "    print (f\"格式錯誤:{e}\")"
   ]
  },
  {
   "cell_type": "code",
   "execution_count": null,
   "metadata": {},
   "outputs": [],
   "source": []
  }
 ],
 "metadata": {
  "kernelspec": {
   "display_name": "Python 3",
   "language": "python",
   "name": "python3"
  },
  "language_info": {
   "codemirror_mode": {
    "name": "ipython",
    "version": 3
   },
   "file_extension": ".py",
   "mimetype": "text/x-python",
   "name": "python",
   "nbconvert_exporter": "python",
   "pygments_lexer": "ipython3",
   "version": "3.10.14"
  }
 },
 "nbformat": 4,
 "nbformat_minor": 2
}
