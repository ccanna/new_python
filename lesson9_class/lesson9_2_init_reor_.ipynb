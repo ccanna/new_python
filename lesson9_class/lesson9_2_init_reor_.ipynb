{
 "cells": [
  {
   "cell_type": "code",
   "execution_count": 1,
   "metadata": {},
   "outputs": [
    {
     "name": "stdout",
     "output_type": "stream",
     "text": [
      "您的姓名是:徐國堂\n",
      "國文:86\n",
      "英文:92\n",
      "數學:76\n",
      "\n"
     ]
    }
   ],
   "source": [
    "class Student():\n",
    "    def __init__(self,n:str,c:int,e:int,m:int):\n",
    "        super().__init__()\n",
    "        self.name = n   #attribute\n",
    "        self.chinese = c #attribute\n",
    "        self.english = e #attribute\n",
    "        self.math = m #attribute\n",
    "\n",
    "    def __repr__(self):\n",
    "        message = f\"您的姓名是:{self.name}\\n\"\n",
    "        message += f\"國文:{self.chinese}\\n\"\n",
    "        message += f\"英文:{self.english}\\n\"\n",
    "        message += f\"數學:{self.math}\\n\"\n",
    "        return message\n",
    "\n",
    "s1 = Student(n=\"徐國堂\",c=86,e=92,m=76)\n",
    "print(s1)"
   ]
  },
  {
   "cell_type": "code",
   "execution_count": 10,
   "metadata": {},
   "outputs": [],
   "source": [
    "class Student():\n",
    "    def __init__(self, n:str, c:int, e:int, m:int):\n",
    "        super().__init__()\n",
    "        self.name = n         #attribute\n",
    "        self.chinese = c      #attribute\n",
    "        self.english = e      #attribute\n",
    "        self.math = m         #attribute\n",
    "    \n",
    "    def __repr__(self):\n",
    "        message = f\"您的名字是:{self.name}\\n\"\n",
    "        message += f\"國文:{self.chinese}\\n\"\n",
    "        message += f\"英文:{self.english}\\n\"\n",
    "        message += f\"數學:{self.math}\\n\"\n",
    "        return message\n",
    "    \n",
    "    #建立property的語法\n",
    "    @property\n",
    "    def sum(self):\n",
    "        return self.chinese + self.english + self.math\n",
    "    \n",
    "   "
   ]
  },
  {
   "cell_type": "code",
   "execution_count": 9,
   "metadata": {},
   "outputs": [
    {
     "name": "stdout",
     "output_type": "stream",
     "text": [
      "您的名字是:王小明\n",
      "國文:86\n",
      "英文:92\n",
      "數學:75\n",
      "\n",
      "總分為:253\n",
      "============================\n",
      "您的名字是:Tom Wang\n",
      "國文:98\n",
      "英文:75\n",
      "數學:68\n",
      "\n",
      "總分為:241\n"
     ]
    }
   ],
   "source": [
    "s1= Student(n=\"王小明\", c=86, e=92, m=75)\n",
    "print(s1)\n",
    "print(f\"總分為:{s1.sum}\")\n",
    "print(f\"平均值為:{s1.average}\")\n",
    "\n",
    "print('============================')\n",
    "\n",
    "s2= Student(n=\"Tom Wang\", c=98, e=75, m=68)\n",
    "print(s2)\n",
    "print(f\"總分為:{s2.sum}\")\n",
    "print(f\"平均值為:{s1.average}\")"
   ]
  },
  {
   "cell_type": "code",
   "execution_count": 33,
   "metadata": {},
   "outputs": [],
   "source": [
    "class Student():\n",
    "    def __init__(self, n:str, c:int, e:int, m:int):\n",
    "        super().__init__()\n",
    "        self.name = n         #attribute\n",
    "        self.chinese = c      #attribute\n",
    "        self.english = e      #attribute\n",
    "        self.math = m         #attribute\n",
    "    \n",
    "    def __repr__(self):\n",
    "        message = f\"您的名字是:{self.name}\\n\"\n",
    "        message += f\"國文:{self.chinese}\\n\"\n",
    "        message += f\"英文:{self.english}\\n\"\n",
    "        message += f\"數學:{self.math}\\n\"\n",
    "        return message\n",
    "    \n",
    "    #建立property的語法\n",
    "    @property\n",
    "    def sum(self):\n",
    "        return self.chinese + self.english + self.math\n",
    "    \n",
    "    #建立實體方法\n",
    "    def average(self)->float:\n",
    "        return self.sum / 3\n",
    "    \n",
    "\n",
    "     "
   ]
  },
  {
   "cell_type": "code",
   "execution_count": 34,
   "metadata": {},
   "outputs": [
    {
     "name": "stdout",
     "output_type": "stream",
     "text": [
      "您的名字是:王小明\n",
      "國文:86\n",
      "英文:92\n",
      "數學:75\n",
      "\n",
      "總分為:253\n",
      "平均值為:84.33\n",
      "============================\n",
      "您的名字是:Tom Wang\n",
      "國文:98\n",
      "英文:75\n",
      "數學:68\n",
      "\n",
      "總分為:241\n",
      "平均值為:80.33\n"
     ]
    }
   ],
   "source": [
    "s1= Student(n=\"王小明\", c=86, e=92, m=75)\n",
    "print(s1)\n",
    "print(f\"總分為:{s1.sum}\")\n",
    "print(f\"平均值為:{s1.average():.2f}\")\n",
    "\n",
    "print('============================')\n",
    "\n",
    "s2= Student(n=\"Tom Wang\", c=98, e=75, m=68)\n",
    "print(s2)\n",
    "print(f\"總分為:{s2.sum}\")\n",
    "print(f\"平均值為:{s2.average():.2f}\")"
   ]
  },
  {
   "cell_type": "code",
   "execution_count": null,
   "metadata": {},
   "outputs": [],
   "source": []
  }
 ],
 "metadata": {
  "kernelspec": {
   "display_name": "Python 3",
   "language": "python",
   "name": "python3"
  },
  "language_info": {
   "codemirror_mode": {
    "name": "ipython",
    "version": 3
   },
   "file_extension": ".py",
   "mimetype": "text/x-python",
   "name": "python",
   "nbconvert_exporter": "python",
   "pygments_lexer": "ipython3",
   "version": "3.10.14"
  }
 },
 "nbformat": 4,
 "nbformat_minor": 2
}
