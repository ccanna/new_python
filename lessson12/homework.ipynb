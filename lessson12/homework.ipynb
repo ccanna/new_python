{
 "cells": [
  {
   "cell_type": "code",
   "execution_count": null,
   "metadata": {},
   "outputs": [],
   "source": [
    "import requests\n",
    "from requests import Response\n",
    "aqi_url ='https://data.moenv.gov.tw/api/v2/aqx_p_488?api_key=e8dd42e6-9b8b-43f8-991e-b3dee723a52d&limit=1000&sort=datacreationdate desc&format=JSON'\n",
    "\n",
    "res:Response = requests.get(aqi_url)\n",
    "if res.status_code == 200:\n",
    "    print('下載成功')\n",
    "else:\n",
    "    print(\"下載失敗\")\n",
    "\n",
    "    \n",
    "\n",
    "from pydantic import BaseModel,Field,field_validator\n",
    "\n",
    "class Site(BaseModel):\n",
    "    site_name:str = Field(alias='sitename')\n",
    "    county:str\n",
    "    aqi:int\n",
    "    status:str\n",
    "    pm25:float = Field(alias='pm2.5')\n",
    "\n",
    "    @field_validator('pm25', mode='before')  #before是要求她先執行我下面的程式驗證，再做上方pm25自己的float驗證\n",
    "    @classmethod\n",
    "    def whitespace_to_zero(cls,value:str)->str:     #whitespace_to_zero是自己取的\n",
    "        if value =='':\n",
    "            return'0.0'\n",
    "        else:\n",
    "            return value\n",
    "\n",
    "class AQI(BaseModel):\n",
    "    records:list[Site]"
   ]
  }
 ],
 "metadata": {
  "language_info": {
   "name": "python"
  }
 },
 "nbformat": 4,
 "nbformat_minor": 2
}
