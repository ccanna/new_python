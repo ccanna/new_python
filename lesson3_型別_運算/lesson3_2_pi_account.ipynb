{
 "cells": [
  {
   "cell_type": "markdown",
   "metadata": {},
   "source": [
    "## 輸出 -> print\n",
    "## 輸入 -> input\n"
   ]
  },
  {
   "cell_type": "code",
   "execution_count": 7,
   "metadata": {},
   "outputs": [
    {
     "name": "stdout",
     "output_type": "stream",
     "text": [
      "寬:10.0公分， 高:15.0公分, 面積:150.0平方公分\n"
     ]
    }
   ],
   "source": [
    "width:float = float(input('請輸入矩形寬'))\n",
    "height:float = float(input('請輸入矩形高'))\n",
    "area:float = width * height\n",
    "print(f'寬:{width}公分， 高:{height}公分, 面積:{area}平方公分')"
   ]
  },
  {
   "cell_type": "code",
   "execution_count": 19,
   "metadata": {},
   "outputs": [
    {
     "name": "stdout",
     "output_type": "stream",
     "text": [
      "計算圓面積\n",
      "圓半徑:10.0, 圓面積:314.16\n",
      "圓半徑:10.0, 圓面積:314.15926\n",
      "圓半徑:10, 圓面積:314.16\n"
     ]
    }
   ],
   "source": [
    "#計算圓面積\n",
    "\n",
    "print('計算圓面積')\n",
    "radius:float = float(input('請輸入半徑:'))\n",
    "PI = 3.1415926\n",
    "area:float = radius **2 *PI\n",
    "print(f\"圓半徑:{radius}, 圓面積:{radius **2 * PI :.2f}\")\n",
    "print(f\"圓半徑:{radius}, 圓面積:{area}\")\n",
    "print(f\"圓半徑:{radius:.0f}, 圓面積:{area:.2f}\")    #\".0f 或 .1f\"是指只要顯示小數點後第幾位"
   ]
  },
  {
   "cell_type": "code",
   "execution_count": 21,
   "metadata": {},
   "outputs": [
    {
     "name": "stdout",
     "output_type": "stream",
     "text": [
      "計算圓面積\n",
      "圓半徑:10.0, 圓面積:314.16\n",
      "圓半徑:10.0, 圓面積:314.1592653589793\n",
      "圓半徑:10, 圓面積:314.16\n"
     ]
    }
   ],
   "source": [
    "#帶入python內建module\n",
    "\n",
    "import math\n",
    "\n",
    "print('計算圓面積')\n",
    "radius:float = float(input('請輸入半徑:'))\n",
    "area:float = radius **2 * math.pi\n",
    "print(f\"圓半徑:{radius}, 圓面積:{radius **2 * math.pi :.2f}\")\n",
    "print(f\"圓半徑:{radius}, 圓面積:{area}\")\n",
    "print(f\"圓半徑:{radius:.0f}, 圓面積:{area:.2f}\")    #\".0f 或 .1f\"是指只要顯示小數點後第幾位"
   ]
  },
  {
   "cell_type": "code",
   "execution_count": null,
   "metadata": {},
   "outputs": [],
   "source": []
  }
 ],
 "metadata": {
  "kernelspec": {
   "display_name": "Python 3",
   "language": "python",
   "name": "python3"
  },
  "language_info": {
   "codemirror_mode": {
    "name": "ipython",
    "version": 3
   },
   "file_extension": ".py",
   "mimetype": "text/x-python",
   "name": "python",
   "nbconvert_exporter": "python",
   "pygments_lexer": "ipython3",
   "version": "3.10.14"
  }
 },
 "nbformat": 4,
 "nbformat_minor": 2
}
