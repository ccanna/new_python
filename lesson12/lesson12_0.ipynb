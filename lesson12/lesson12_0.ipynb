{
 "cells": [
  {
   "cell_type": "code",
   "execution_count": 2,
   "metadata": {},
   "outputs": [],
   "source": [
    "with open('data.json', encoding='utf-8') as file:\n",
    "    constent:str=file.read()"
   ]
  },
  {
   "cell_type": "code",
   "execution_count": 4,
   "metadata": {},
   "outputs": [
    {
     "name": "stdout",
     "output_type": "stream",
     "text": [
      "name='Scott' website='stackabuse.com' from_='Nebraska'\n",
      "name='Larry' website='google.com' from_='Michigan'\n"
     ]
    }
   ],
   "source": [
    "#老師解答\n",
    "from pydantic import BaseModel, Field\n",
    "\n",
    "class Person(BaseModel):\n",
    "    name: str\n",
    "    website: str\n",
    "    from_: str = Field(alias='from')\n",
    "\n",
    "class Data(BaseModel):\n",
    "    people: list[Person]\n",
    "\n",
    "with open('data.json', encoding='utf-8') as file:\n",
    "    data: Data = Data.model_validate_json(file.read())\n",
    "\n",
    "data_list: list[Person] = data.people\n",
    "for item in data_list:\n",
    "    print(item)"
   ]
  },
  {
   "cell_type": "code",
   "execution_count": 5,
   "metadata": {},
   "outputs": [
    {
     "data": {
      "text/plain": [
       "{'people': [{'name': 'Scott',\n",
       "   'website': 'stackabuse.com',\n",
       "   'from_': 'Nebraska'},\n",
       "  {'name': 'Larry', 'website': 'google.com', 'from_': 'Michigan'}]}"
      ]
     },
     "execution_count": 5,
     "metadata": {},
     "output_type": "execute_result"
    }
   ],
   "source": [
    "#把json轉成python資料結構，使用model_dump()\n",
    "\n",
    "data_dict:dict = data.model_dump()\n",
    "data_dict"
   ]
  },
  {
   "cell_type": "code",
   "execution_count": 6,
   "metadata": {},
   "outputs": [
    {
     "name": "stdout",
     "output_type": "stream",
     "text": [
      "{'people': [{'from_': 'Nebraska', 'name': 'Scott', 'website': 'stackabuse.com'},\n",
      "            {'from_': 'Michigan', 'name': 'Larry', 'website': 'google.com'}]}\n"
     ]
    }
   ],
   "source": [
    "#利用pprint將資料整理更美觀\n",
    "\n",
    "from pprint import pprint\n",
    "\n",
    "data_dict:dict = data.model_dump()\n",
    "pprint(data_dict)"
   ]
  },
  {
   "cell_type": "code",
   "execution_count": null,
   "metadata": {},
   "outputs": [],
   "source": []
  }
 ],
 "metadata": {
  "kernelspec": {
   "display_name": "Python 3",
   "language": "python",
   "name": "python3"
  },
  "language_info": {
   "codemirror_mode": {
    "name": "ipython",
    "version": 3
   },
   "file_extension": ".py",
   "mimetype": "text/x-python",
   "name": "python",
   "nbconvert_exporter": "python",
   "pygments_lexer": "ipython3",
   "version": "3.10.14"
  }
 },
 "nbformat": 4,
 "nbformat_minor": 2
}
