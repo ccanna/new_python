{
 "cells": [
  {
   "cell_type": "code",
   "execution_count": 1,
   "metadata": {},
   "outputs": [
    {
     "name": "stdout",
     "output_type": "stream",
     "text": [
      "輸入發生錯誤:invalid literal for int() with base 10: '56w'\n"
     ]
    }
   ],
   "source": [
    "try:\n",
    "\n",
    "    score:int|float = int(input(\"請輸入學生分數(最高300分):\"))\n",
    "\n",
    "    if score <= 300:\n",
    "\n",
    "        add:str = input(\"是否符合加分條件? (y/n)\")\n",
    "\n",
    "        if add == \"y\" :\n",
    "            score *= 1.05\n",
    "            \n",
    "            if score > 300:\n",
    "                score = 300\n",
    "\n",
    "        print(f\"學生的分數是:{round(score)}\")\n",
    "\n",
    "    else :\n",
    "\n",
    "        print(\"您輸入的分數超過300分\")\n",
    "\n",
    "except Exception as e:\n",
    "    \n",
    "    print(f\"輸入發生錯誤:{e}\")"
   ]
  },
  {
   "cell_type": "code",
   "execution_count": null,
   "metadata": {},
   "outputs": [],
   "source": []
  }
 ],
 "metadata": {
  "kernelspec": {
   "display_name": "Python 3",
   "language": "python",
   "name": "python3"
  },
  "language_info": {
   "codemirror_mode": {
    "name": "ipython",
    "version": 3
   },
   "file_extension": ".py",
   "mimetype": "text/x-python",
   "name": "python",
   "nbconvert_exporter": "python",
   "pygments_lexer": "ipython3",
   "version": "3.10.14"
  }
 },
 "nbformat": 4,
 "nbformat_minor": 2
}
