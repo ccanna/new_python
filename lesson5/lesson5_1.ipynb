{
 "cells": [
  {
   "cell_type": "code",
   "execution_count": 2,
   "metadata": {},
   "outputs": [
    {
     "data": {
      "text/plain": [
       "True"
      ]
     },
     "execution_count": 2,
     "metadata": {},
     "output_type": "execute_result"
    }
   ],
   "source": [
    "#比較運算子\n",
    "\n",
    "5 > 3\n",
    "3 > 5\n",
    "5 >= 5\n",
    "5 >= 5"
   ]
  },
  {
   "cell_type": "code",
   "execution_count": 3,
   "metadata": {},
   "outputs": [
    {
     "data": {
      "text/plain": [
       "False"
      ]
     },
     "execution_count": 3,
     "metadata": {},
     "output_type": "execute_result"
    }
   ],
   "source": [
    "5 == 5    #指定運算子\n",
    "5 != 5    #比較運算子"
   ]
  },
  {
   "cell_type": "code",
   "execution_count": 11,
   "metadata": {},
   "outputs": [
    {
     "name": "stdout",
     "output_type": "stream",
     "text": [
      "程式結束\n"
     ]
    }
   ],
   "source": [
    "age:int = 16\n",
    "\n",
    "if age >= 18 :\n",
    "\n",
    "    print(\"您已超過18歲\")\n",
    "    print(\"可以考駕照\")\n",
    "    print(\"有投票權\")\n",
    "\n",
    "print(\"程式結束\")"
   ]
  },
  {
   "cell_type": "markdown",
   "metadata": {},
   "source": [
    "- 輸入學生分數，總分為300分\n",
    "- 由您決定學生可不可以加分5%"
   ]
  },
  {
   "cell_type": "code",
   "execution_count": 19,
   "metadata": {},
   "outputs": [
    {
     "name": "stdout",
     "output_type": "stream",
     "text": [
      "學生的分數是:200\n"
     ]
    }
   ],
   "source": [
    "score:int|float = int(input(\"請輸入學生分數(最高300分):\"))\n",
    "add:str = input(\"是否符合加分條件? (y/n)\")\n",
    "\n",
    "if add == \"y\" :\n",
    "    score *= 1.05\n",
    "\n",
    "print(f\"學生的分數是:{round(score)}\")"
   ]
  },
  {
   "cell_type": "markdown",
   "metadata": {},
   "source": [
    "- 輸入學生分數，總分為300分\n",
    "- 由您決定學生可不可以加分5%\n",
    "- 超過300分，以300分計算"
   ]
  },
  {
   "cell_type": "code",
   "execution_count": 20,
   "metadata": {},
   "outputs": [
    {
     "name": "stdout",
     "output_type": "stream",
     "text": [
      "學生的分數是:300\n"
     ]
    }
   ],
   "source": [
    "score:int|float = int(input(\"請輸入學生分數(最高300分):\"))\n",
    "add:str = input(\"是否符合加分條件? (y/n)\")\n",
    "\n",
    "if add == \"y\" :\n",
    "    score *= 1.05\n",
    "    \n",
    "    if score > 300:\n",
    "        score = 300\n",
    "\n",
    "print(f\"學生的分數是:{round(score)}\")"
   ]
  },
  {
   "cell_type": "markdown",
   "metadata": {},
   "source": [
    "- 輸入學生分數，總分為300分\n",
    "- 檢查學生輸入的分數，是否大於300分\n",
    "- 由您決定學生可不可以加分5%\n",
    "- 超過300分，以300分計算"
   ]
  },
  {
   "cell_type": "code",
   "execution_count": 26,
   "metadata": {},
   "outputs": [
    {
     "name": "stdout",
     "output_type": "stream",
     "text": [
      "學生的分數是:250\n"
     ]
    }
   ],
   "source": [
    "score:int|float = int(input(\"請輸入學生分數(最高300分):\"))\n",
    "\n",
    "if score <= 300:\n",
    "\n",
    "    add:str = input(\"是否符合加分條件? (y/n)\")\n",
    "\n",
    "    if add == \"y\" :\n",
    "        score *= 1.05\n",
    "        \n",
    "        if score > 300:\n",
    "            score = 300\n",
    "\n",
    "    print(f\"學生的分數是:{round(score)}\")\n",
    "\n",
    "else :\n",
    "\n",
    "    print(\"您輸入的分數超過300分\")"
   ]
  },
  {
   "cell_type": "markdown",
   "metadata": {},
   "source": [
    "- 模式raise Exception\n",
    "- try...except...(優雅的失敗)"
   ]
  },
  {
   "cell_type": "code",
   "execution_count": 28,
   "metadata": {},
   "outputs": [
    {
     "ename": "ValueError",
     "evalue": "invalid literal for int() with base 10: '15w'",
     "output_type": "error",
     "traceback": [
      "\u001b[0;31m---------------------------------------------------------------------------\u001b[0m",
      "\u001b[0;31mValueError\u001b[0m                                Traceback (most recent call last)",
      "Cell \u001b[0;32mIn[28], line 1\u001b[0m\n\u001b[0;32m----> 1\u001b[0m money:\u001b[38;5;28mint\u001b[39m \u001b[38;5;241m=\u001b[39m \u001b[38;5;28;43mint\u001b[39;49m\u001b[43m(\u001b[49m\u001b[38;5;28;43minput\u001b[39;49m\u001b[43m(\u001b[49m\u001b[38;5;124;43m\"\u001b[39;49m\u001b[38;5;124;43m請輸入金額:\u001b[39;49m\u001b[38;5;124;43m\"\u001b[39;49m\u001b[43m)\u001b[49m\u001b[43m)\u001b[49m\n\u001b[1;32m      2\u001b[0m \u001b[38;5;28mprint\u001b[39m (money)\n",
      "\u001b[0;31mValueError\u001b[0m: invalid literal for int() with base 10: '15w'"
     ]
    }
   ],
   "source": [
    "#情況:如果輸入金額錯誤時\n",
    "\n",
    "money:int = int(input(\"請輸入金額:\"))\n",
    "print (money)"
   ]
  },
  {
   "cell_type": "code",
   "execution_count": 35,
   "metadata": {},
   "outputs": [
    {
     "name": "stdout",
     "output_type": "stream",
     "text": [
      "輸入的金額格式錯誤\n",
      "程式結束\n"
     ]
    }
   ],
   "source": [
    "#避免金額輸入錯誤導致系統當掉、閃退\n",
    "\n",
    "try:\n",
    "    money:int = int(input(\"請輸入金額:\"))\n",
    "    print (f\"金額是{money}元\")\n",
    "\n",
    "except ValueError:    #只有處理ValueError的錯誤\n",
    "    print(\"輸入的金額格式錯誤\")\n",
    "\n",
    "print(\"程式結束\")"
   ]
  },
  {
   "cell_type": "code",
   "execution_count": null,
   "metadata": {},
   "outputs": [],
   "source": [
    "#避免金額輸入錯誤導致系統當掉、閃退\n",
    "\n",
    "try:\n",
    "    money:int = int(input(\"請輸入金額:\"))\n",
    "    print (f\"金額是{money}元\")\n",
    "\n",
    "except Exception:    #可處理任何錯誤\n",
    "    print(\"輸入的金額格式錯誤\")\n",
    "\n",
    "print(\"程式結束\")"
   ]
  },
  {
   "cell_type": "code",
   "execution_count": 36,
   "metadata": {},
   "outputs": [
    {
     "name": "stdout",
     "output_type": "stream",
     "text": [
      "輸入的金額格式錯誤invalid literal for int() with base 10: '54w23'\n",
      "程式結束\n"
     ]
    }
   ],
   "source": [
    "#避免金額輸入錯誤導致系統當掉、閃退\n",
    "\n",
    "try:\n",
    "    money:int = int(input(\"請輸入金額:\"))\n",
    "    print (f\"金額是{money}元\")\n",
    "\n",
    "except Exception as e:    #可處理任何錯誤，並顯示錯誤內容\n",
    "    print(f\"輸入的金額格式錯誤{e}\")\n",
    "\n",
    "print(\"程式結束\")"
   ]
  },
  {
   "cell_type": "code",
   "execution_count": null,
   "metadata": {},
   "outputs": [],
   "source": []
  }
 ],
 "metadata": {
  "kernelspec": {
   "display_name": "Python 3",
   "language": "python",
   "name": "python3"
  },
  "language_info": {
   "codemirror_mode": {
    "name": "ipython",
    "version": 3
   },
   "file_extension": ".py",
   "mimetype": "text/x-python",
   "name": "python",
   "nbconvert_exporter": "python",
   "pygments_lexer": "ipython3",
   "version": "3.10.14"
  }
 },
 "nbformat": 4,
 "nbformat_minor": 2
}
