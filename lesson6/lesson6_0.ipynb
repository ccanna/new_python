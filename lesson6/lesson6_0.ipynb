{
 "cells": [
  {
   "cell_type": "code",
   "execution_count": 8,
   "metadata": {},
   "outputs": [
    {
     "name": "stdout",
     "output_type": "stream",
     "text": [
      "身高正常\n",
      "語法錯誤:體重錯誤\n"
     ]
    }
   ],
   "source": [
    "try:\n",
    "    name = input(\"請輸入姓名\")\n",
    "    height = float(input(\"請輸入身高(cm):\"))\n",
    "    if height >=120:\n",
    "        if height <=230:\n",
    "            print(\"身高正常\")\n",
    "\n",
    "    weight = eval(input(\"請輸入體重(kg):\"))\n",
    "    \n",
    "    bmi = weight / (height/100) **2\n",
    "    print(f\"{name},您的BMI:{round(bmi, ndigits=2)}\")\n",
    "\n",
    "#except Exception as e:\n",
    "    #print(f\"格式錯誤: {e}\")\n",
    "except ValueError as e:\n",
    "    print(f'格式錯誤: {e}')\n",
    "except SyntaxError as e:\n",
    "    print(f'語法錯誤:體重錯誤')"
   ]
  },
  {
   "cell_type": "code",
   "execution_count": null,
   "metadata": {},
   "outputs": [],
   "source": []
  },
  {
   "cell_type": "code",
   "execution_count": null,
   "metadata": {},
   "outputs": [],
   "source": []
  }
 ],
 "metadata": {
  "kernelspec": {
   "display_name": "Python 3",
   "language": "python",
   "name": "python3"
  },
  "language_info": {
   "codemirror_mode": {
    "name": "ipython",
    "version": 3
   },
   "file_extension": ".py",
   "mimetype": "text/x-python",
   "name": "python",
   "nbconvert_exporter": "python",
   "pygments_lexer": "ipython3",
   "version": "3.10.14"
  }
 },
 "nbformat": 4,
 "nbformat_minor": 2
}
