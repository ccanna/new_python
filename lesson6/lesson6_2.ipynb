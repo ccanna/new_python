{
 "cells": [
  {
   "cell_type": "code",
   "execution_count": 4,
   "metadata": {},
   "outputs": [
    {
     "name": "stdout",
     "output_type": "stream",
     "text": [
      "獲得獎金: 1000元\n"
     ]
    }
   ],
   "source": [
    "#國文100分同時數學100分，獎金1000元\n",
    "#國文100分或者數學100分，獎金500元\n",
    "\n",
    "\n",
    "chinese = int(input('請輸入國文分數:'))\n",
    "math = int(input('請輸入數學分數:'))\n",
    "\n",
    "\n",
    "if chinese == 100 and math ==100:\n",
    "    bonus = 1000\n",
    "elif chinese == 100 or math == 100:\n",
    "    bonus = 500\n",
    "else:\n",
    "    bonus = 0\n",
    "    \n",
    "\n",
    "print(f\"獲得獎金: {bonus}元\")"
   ]
  },
  {
   "cell_type": "code",
   "execution_count": 3,
   "metadata": {},
   "outputs": [
    {
     "name": "stdout",
     "output_type": "stream",
     "text": [
      "請輸入學生分數(最高300分)Number must be at maximum 300.\n",
      "請輸入學生分數(最高300分)'2r' is not an integer.\n",
      "請輸入學生分數(最高300分)100\n"
     ]
    }
   ],
   "source": [
    "import pyinputplus as pyip\n",
    "\n",
    "score = pyip.inputInt(\"請輸入學生分數(最高300分)\", min=0, max=300)\n",
    "print (score)"
   ]
  },
  {
   "cell_type": "code",
   "execution_count": null,
   "metadata": {},
   "outputs": [],
   "source": [
    "try:\n",
    "    name = input('請輸入姓名:')\n",
    "    height = float(input('請輸入身高(120~230)(cm):')) \n",
    "    if height<120 or height>230:\n",
    "        raise Exception(\"身高必需大於120同時小於230\")    \n",
    "    weight = float(input('請輸入體重(40~170)(kg):'))\n",
    "    if weight<40 or weight>170:\n",
    "        raise Exception(\"體重必需大於40同時小於170\")\n",
    "    bmi = weight / (height / 100) ** 2\n",
    "    print(f'{name}, 您的BMI: {round(bmi,ndigits=2)}')\n",
    "except Exception as e:\n",
    "    print(f'錯誤: {e}')"
   ]
  },
  {
   "cell_type": "code",
   "execution_count": 9,
   "metadata": {},
   "outputs": [
    {
     "name": "stdout",
     "output_type": "stream",
     "text": [
      "請輸入身高(cm):'15d' is not a float.\n",
      "請輸入身高(cm):Number must be at minimum 120.\n",
      "請輸入身高(cm):Number must be at maximum 230.\n",
      "請輸入身高(cm):請輸入體重(kg):'4a' is not a float.\n",
      "請輸入體重(kg):Number must be at minimum 40.\n",
      "請輸入體重(kg):Number must be at maximum 170.\n",
      "請輸入體重(kg):jason, 您的BMI: 24.22\n"
     ]
    }
   ],
   "source": [
    "import pyinputplus as pyip\n",
    "\n",
    "name = input('請輸入姓名:')\n",
    "\n",
    "height = pyip.inputFloat(\"請輸入身高(cm):\", min= 120, max=230)\n",
    "weight = pyip.inputFloat(\"請輸入體重(kg):\", min= 40, max= 170)\n",
    "bmi = weight / (height / 100) ** 2\n",
    "print(f'{name}, 您的BMI: {round(bmi,ndigits=2)}')"
   ]
  },
  {
   "cell_type": "code",
   "execution_count": null,
   "metadata": {},
   "outputs": [],
   "source": []
  },
  {
   "cell_type": "code",
   "execution_count": null,
   "metadata": {},
   "outputs": [],
   "source": []
  }
 ],
 "metadata": {
  "kernelspec": {
   "display_name": "Python 3",
   "language": "python",
   "name": "python3"
  },
  "language_info": {
   "codemirror_mode": {
    "name": "ipython",
    "version": 3
   },
   "file_extension": ".py",
   "mimetype": "text/x-python",
   "name": "python",
   "nbconvert_exporter": "python",
   "pygments_lexer": "ipython3",
   "version": "3.10.14"
  }
 },
 "nbformat": 4,
 "nbformat_minor": 2
}
