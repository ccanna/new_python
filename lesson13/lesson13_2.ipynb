{
 "cells": [
  {
   "cell_type": "markdown",
   "metadata": {},
   "source": [
    "### 正規則表達式(regular expression)\n",
    "- 比對字串(使用者輸入的格式,是否符合我們要的格式(pattern))\n",
    "- 搜尋字串(搜尋大量的文字,取出符合pattern格式的文字)\n",
    "#### 可搭配老師github講義\"正規則表達式\"      "
   ]
  },
  {
   "cell_type": "code",
   "execution_count": 7,
   "metadata": {},
   "outputs": [
    {
     "name": "stdout",
     "output_type": "stream",
     "text": [
      "格式不符合\n"
     ]
    }
   ],
   "source": [
    "import re\n",
    "phone_num =input(\"請輸入手機號碼xxxx-xxx-xxx:\")\n",
    "phoneNumberRegex:re.Pattern = re.compile(r'\\d\\d\\d\\d-\\d\\d\\d-\\d\\d\\d')   #Regex是正規則表達式裡面的一個簡寫，不寫也沒關係\n",
    "match1:re.Match | None = re.match(phoneNumberRegex, phone_num)\n",
    "if match1 is not None:\n",
    "    print(f\"{match1.group()}-格式符合\")\n",
    "else:\n",
    "    print(\"格式不符合\")"
   ]
  },
  {
   "cell_type": "code",
   "execution_count": 9,
   "metadata": {},
   "outputs": [
    {
     "name": "stdout",
     "output_type": "stream",
     "text": [
      "0926-123-456-格式符合\n",
      "0926-123-456-group(0)\n",
      "0926-group(1)\n",
      "123-group(2)\n",
      "456-group(3)\n"
     ]
    }
   ],
   "source": [
    "import re\n",
    "phone_num =input(\"請輸入手機號碼xxxx-xxx-xxx:\")\n",
    "phoneNumberRegex:re.Pattern = re.compile(r'(\\d\\d\\d\\d)-(\\d\\d\\d)-(\\d\\d\\d)')   #有一個()的叫做一組字\n",
    "match1:re.Match | None = re.match(phoneNumberRegex, phone_num)\n",
    "if match1 is not None:\n",
    "    print(f\"{match1.group()}-格式符合\")\n",
    "    print(f\"{match1.group(0)}-group(0)\")\n",
    "    print(f\"{match1.group(1)}-group(1)\")\n",
    "    print(f\"{match1.group(2)}-group(2)\")\n",
    "    print(f\"{match1.group(3)}-group(3)\")\n",
    "else:\n",
    "    print(\"格式不符合\")"
   ]
  },
  {
   "cell_type": "code",
   "execution_count": 11,
   "metadata": {},
   "outputs": [
    {
     "name": "stdout",
     "output_type": "stream",
     "text": [
      "(0926)-123-456-格式符合\n",
      "(0926)-123-456-group(0)\n",
      "0926-group(1)\n",
      "123-group(2)\n",
      "456-group(3)\n"
     ]
    }
   ],
   "source": [
    "# . ^ $ * + ? { } [ ] \\ | ( )都是特殊符號，若要print也顯示出來，前面都要加上\"\\\"\n",
    "\n",
    "import re\n",
    "phone_num =input(\"請輸入手機號碼(xxxx)-xxx-xxx:\")    #要再輸入資料裡加入特殊符號()\n",
    "phoneNumberRegex:re.Pattern = re.compile(r'\\((\\d\\d\\d\\d)\\)-(\\d\\d\\d)-(\\d\\d\\d)')   #就要在這邊寫成 \\( and \\)\n",
    "match1:re.Match | None = re.match(phoneNumberRegex, phone_num)\n",
    "if match1 is not None:\n",
    "    print(f\"{match1.group()}-格式符合\")\n",
    "    print(f\"{match1.group(0)}-group(0)\")\n",
    "    print(f\"{match1.group(1)}-group(1)\")\n",
    "    print(f\"{match1.group(2)}-group(2)\")\n",
    "    print(f\"{match1.group(3)}-group(3)\")\n",
    "else:\n",
    "    print(\"格式不符合\")"
   ]
  },
  {
   "cell_type": "code",
   "execution_count": 3,
   "metadata": {},
   "outputs": [
    {
     "name": "stdout",
     "output_type": "stream",
     "text": [
      "0926-123-456-格式符合\n",
      "0926-123-456-group(0)\n",
      "0926-group(1)\n",
      "123-group(2)\n",
      "456-group(3)\n"
     ]
    }
   ],
   "source": [
    "\n",
    "import re\n",
    "phone_num =input(\"請輸入手機號碼(xxxx)-xxx-xxx, 或者xxxx-xxx-xxx:\")    #同時有兩種格式提供輸入的方式\n",
    "phoneNumberRegex:re.Pattern = re.compile(r'(\\(\\d\\d\\d\\d\\)|\\d\\d\\d\\d)-(\\d\\d\\d)-(\\d\\d\\d)')   #直線 \"|\"是 \"或者\"的意思，前後不能有空格，不然會跑不出來\n",
    "match1:re.Match | None = re.match(phoneNumberRegex, phone_num)\n",
    "if match1 is not None:\n",
    "    print(f\"{match1.group()}-格式符合\")\n",
    "    print(f\"{match1.group(0)}-group(0)\")\n",
    "    print(f\"{match1.group(1)}-group(1)\")\n",
    "    print(f\"{match1.group(2)}-group(2)\")\n",
    "    print(f\"{match1.group(3)}-group(3)\")\n",
    "else:\n",
    "    print(\"格式不符合\")"
   ]
  },
  {
   "cell_type": "code",
   "execution_count": 6,
   "metadata": {},
   "outputs": [
    {
     "name": "stdout",
     "output_type": "stream",
     "text": [
      "Batman\n"
     ]
    }
   ],
   "source": [
    "#使用pipe(|),選擇多選1\n",
    "\n",
    "heroRegex:re.Pattern = re.compile(r'Batman|Tina Fey')\n",
    "match1:re.Match | None = heroRegex.match('Batman and Tina Fey')\n",
    "print(match1.group())"
   ]
  },
  {
   "cell_type": "code",
   "execution_count": 10,
   "metadata": {},
   "outputs": [
    {
     "name": "stdout",
     "output_type": "stream",
     "text": [
      "Tina Fey\n"
     ]
    }
   ],
   "source": [
    "heroRegex:re.Pattern = re.compile(r'Batman|Tina Fey')\n",
    "match1:re.Match | None = heroRegex.match('Tina Fey and Batman ')\n",
    "print(match1.group())"
   ]
  },
  {
   "cell_type": "code",
   "execution_count": 12,
   "metadata": {},
   "outputs": [
    {
     "name": "stdout",
     "output_type": "stream",
     "text": [
      "格式不符\n"
     ]
    }
   ],
   "source": [
    "heroRegex:re.Pattern = re.compile(r'Batman|Tina Fey')\n",
    "match1:re.Match | None = heroRegex.match('aTina Fey and Batman')\n",
    "if match1 is not None:\n",
    "    print(match1.group())\n",
    "else:\n",
    "    print(\"格式不符\")"
   ]
  },
  {
   "cell_type": "code",
   "execution_count": 14,
   "metadata": {},
   "outputs": [
    {
     "name": "stdout",
     "output_type": "stream",
     "text": [
      "Batman\n",
      "man\n"
     ]
    }
   ],
   "source": [
    "heroRegex:re.Pattern = re.compile(r'Bat(man|mobile|copter|bat)')\n",
    "match1:re.Match | None = heroRegex.search('aTina Fey and Batman')  #search的意思是，在bat後面有沒有符合()裡的五個其中一個\n",
    "if match1 is not None:\n",
    "    print(match1.group())\n",
    "    print(match1.group(1))\n",
    "else:\n",
    "    print(\"格式不符\")"
   ]
  },
  {
   "cell_type": "code",
   "execution_count": 15,
   "metadata": {},
   "outputs": [
    {
     "name": "stdout",
     "output_type": "stream",
     "text": [
      "Batbat\n",
      "bat\n"
     ]
    }
   ],
   "source": [
    "heroRegex:re.Pattern = re.compile(r'Bat(man|mobile|copter|bat)')\n",
    "match1:re.Match | None = heroRegex.search('lost a wheel Batbat')  #search的意思是，在bat後面有沒有符合()裡的五個其中一個\n",
    "if match1 is not None:\n",
    "    print(match1.group())\n",
    "    print(match1.group(1))\n",
    "else:\n",
    "    print(\"格式不符\")"
   ]
  },
  {
   "cell_type": "code",
   "execution_count": 16,
   "metadata": {},
   "outputs": [
    {
     "name": "stdout",
     "output_type": "stream",
     "text": [
      "Batcopter\n",
      "copter\n"
     ]
    }
   ],
   "source": [
    "#我自己的練習\n",
    "heroRegex:re.Pattern = re.compile(r'Bat(man|mobile|copter|bat)')\n",
    "match1:re.Match | None = heroRegex.search('this is Robat, and Batcopter，nice to meet you')  #search的意思是，在bat後面有沒有符合()裡的五個其中一個\n",
    "if match1 is not None:\n",
    "    print(match1.group())\n",
    "    print(match1.group(1))\n",
    "else:\n",
    "    print(\"格式不符\")"
   ]
  },
  {
   "cell_type": "code",
   "execution_count": null,
   "metadata": {},
   "outputs": [],
   "source": []
  }
 ],
 "metadata": {
  "kernelspec": {
   "display_name": "Python 3",
   "language": "python",
   "name": "python3"
  },
  "language_info": {
   "codemirror_mode": {
    "name": "ipython",
    "version": 3
   },
   "file_extension": ".py",
   "mimetype": "text/x-python",
   "name": "python",
   "nbconvert_exporter": "python",
   "pygments_lexer": "ipython3",
   "version": "3.10.14"
  }
 },
 "nbformat": 4,
 "nbformat_minor": 2
}
