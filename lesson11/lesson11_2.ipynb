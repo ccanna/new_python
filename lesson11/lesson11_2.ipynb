{
 "cells": [
  {
   "cell_type": "markdown",
   "metadata": {},
   "source": [
    "### 操作方式和DataClass一樣"
   ]
  },
  {
   "cell_type": "code",
   "execution_count": 10,
   "metadata": {},
   "outputs": [
    {
     "name": "stdout",
     "output_type": "stream",
     "text": [
      "Jone\n",
      "Smith\n",
      "42\n",
      "USA\n",
      "first_name='Jone' last_name='Smith' age=42 country='USA'\n"
     ]
    }
   ],
   "source": [
    "#可以取代lesson9_2繼承\n",
    "\n",
    "from pydantic import BaseModel\n",
    "\n",
    "class Person(BaseModel):\n",
    "    #field欄位一定要有type hint\n",
    "    first_name:str\n",
    "    last_name:str\n",
    "    age:int\n",
    "    country:str\n",
    "\n",
    "\n",
    "p = Person(first_name=\"Jone\", last_name=\"Smith\", age=\"42\",country=\"USA\")\n",
    "print(p.first_name)\n",
    "print(p.last_name)\n",
    "print(p.age)\n",
    "print(p.country)\n",
    "print(p)"
   ]
  },
  {
   "cell_type": "markdown",
   "metadata": {},
   "source": [
    "## dataclass做不到的事\n",
    "- 驗證資料\n",
    "- pydantic可以自動幫轉為數字，也能檢核錯誤不容易導致資料出錯"
   ]
  },
  {
   "cell_type": "code",
   "execution_count": 2,
   "metadata": {},
   "outputs": [
    {
     "name": "stdout",
     "output_type": "stream",
     "text": [
      "first_name='Jone' last_name='Smith' age=42\n"
     ]
    }
   ],
   "source": [
    "p1 = Person(first_name=\"Jone\", last_name=\"Smith\", age=\"42\")\n",
    "print(p1)"
   ]
  },
  {
   "cell_type": "code",
   "execution_count": 3,
   "metadata": {},
   "outputs": [
    {
     "name": "stdout",
     "output_type": "stream",
     "text": [
      "1 validation error for Person\n",
      "age\n",
      "  Input should be a valid integer, unable to parse string as an integer [type=int_parsing, input_value='abc', input_type=str]\n",
      "    For further information visit https://errors.pydantic.dev/2.7/v/int_parsing\n"
     ]
    }
   ],
   "source": [
    "try:\n",
    "    p2 = Person(first_name=\"Jone\", last_name=\"Smith\", age=\"abc\")\n",
    "\n",
    "except Exception as error:\n",
    "    print(error)"
   ]
  },
  {
   "cell_type": "markdown",
   "metadata": {},
   "source": [
    "### 可以將純文字轉成pydantic實體\n",
    "- model_validate_jason()"
   ]
  },
  {
   "cell_type": "code",
   "execution_count": 11,
   "metadata": {},
   "outputs": [
    {
     "name": "stdout",
     "output_type": "stream",
     "text": [
      "first_name='John' last_name='Smith' age=42 country='USA'\n"
     ]
    }
   ],
   "source": [
    "#'''的意思是多行文字\n",
    "\n",
    "\n",
    "data_json='''\n",
    "{\n",
    "    \"first_name\":\"John\",\n",
    "    \"last_name\": \"Smith\",\n",
    "    \"age\" : \"42\",\n",
    "    \"country\":\"USA\"\n",
    "    \n",
    "}\n",
    "'''\n",
    "\n",
    "p3= Person.model_validate_json(data_json)\n",
    "print(p3)\n"
   ]
  },
  {
   "cell_type": "markdown",
   "metadata": {},
   "source": [
    "### 可以選擇需要取得的欄位"
   ]
  },
  {
   "cell_type": "code",
   "execution_count": 16,
   "metadata": {},
   "outputs": [
    {
     "name": "stdout",
     "output_type": "stream",
     "text": [
      "first_name='John' last_name='Smith' age=42 country='USA'\n"
     ]
    }
   ],
   "source": [
    "data_json='''\n",
    "{\n",
    "    \"first_name\":\"John\",\n",
    "    \"last_name\": \"Smith\",\n",
    "    \"age\" : \"42\",\n",
    "    \"country\":\"USA\",\n",
    "    \"height\":\"173\"\n",
    "    \n",
    "}\n",
    "'''\n",
    "\n",
    "p4= Person.model_validate_json(data_json)\n",
    "print(p4)"
   ]
  },
  {
   "cell_type": "markdown",
   "metadata": {},
   "source": [
    "### 可以設定取得的資料，如果沒有這個欄位，設定欄位預設值"
   ]
  },
  {
   "cell_type": "code",
   "execution_count": 23,
   "metadata": {},
   "outputs": [
    {
     "name": "stdout",
     "output_type": "stream",
     "text": [
      "first_name='John' last_name='Smith' age=0 country=0\n"
     ]
    }
   ],
   "source": [
    "class Person(BaseModel):\n",
    "    #field欄位一定要有type hint\n",
    "    first_name:str  #一定要有資料\n",
    "    last_name:str   #一定要有資料\n",
    "    age:int = 0    #有預設的值\n",
    "    country:str = 0 #有預設的值\n",
    "\n",
    "#這樣子就算這邊不寫出來age、country也能跑得出來\n",
    "data_json='''\n",
    "{\n",
    "    \"first_name\":\"John\",\n",
    "    \"last_name\": \"Smith\"\n",
    "\n",
    "}\n",
    "'''\n",
    "\n",
    "p5= Person.model_validate_json(data_json)\n",
    "print(p5)"
   ]
  },
  {
   "cell_type": "code",
   "execution_count": 24,
   "metadata": {},
   "outputs": [
    {
     "name": "stdout",
     "output_type": "stream",
     "text": [
      "first_name='John' last_name='Smith' age=0 country=0 lucky_numbers=[]\n"
     ]
    }
   ],
   "source": [
    "class Person(BaseModel):\n",
    "    #field欄位一定要有type hint\n",
    "    first_name:str  #一定要有資料\n",
    "    last_name:str   #一定要有資料\n",
    "    age:int = 0    #有預設的值\n",
    "    country:str = 0 #有預設的值\n",
    "    lucky_numbers:list[int] = []\n",
    "\n",
    "    \n",
    "#這樣子就算這邊不寫出來age、country也能跑得出來\n",
    "data_json='''\n",
    "{\n",
    "    \"first_name\":\"John\",\n",
    "    \"last_name\": \"Smith\"\n",
    "\n",
    "}\n",
    "'''\n",
    "\n",
    "p5= Person.model_validate_json(data_json)\n",
    "print(p5)"
   ]
  },
  {
   "cell_type": "code",
   "execution_count": 32,
   "metadata": {},
   "outputs": [
    {
     "name": "stdout",
     "output_type": "stream",
     "text": [
      "first_name='John' last_name='Smith' age=0 country=0 lucky_numbers=[1, 2, 3, 4, 5]\n"
     ]
    }
   ],
   "source": [
    "class Person(BaseModel):\n",
    "    #field欄位一定要有type hint\n",
    "    first_name:str  #一定要有資料\n",
    "    last_name:str   #一定要有資料\n",
    "    age:int = 0    #有預設的值\n",
    "    country:str = 0 #有預設的值\n",
    "    lucky_numbers:list[int] = []\n",
    "\n",
    "    \n",
    "#這樣子就算這邊不寫出來age、country也能跑得出來\n",
    "data_json='''\n",
    "{\n",
    "    \"first_name\":\"John\",\n",
    "    \"last_name\": \"Smith\",\n",
    "    \"lucky_numbers\":[1,2,3,4,\"5\"]\n",
    "}\n",
    "'''\n",
    "\n",
    "p5= Person.model_validate_json(data_json)\n",
    "print(p5)"
   ]
  },
  {
   "cell_type": "code",
   "execution_count": 44,
   "metadata": {},
   "outputs": [
    {
     "name": "stdout",
     "output_type": "stream",
     "text": [
      "id_=100 first_name='John' last_name='Smith' age=42 country='USA'\n"
     ]
    }
   ],
   "source": [
    "data_json='''\n",
    "{\n",
    "    \"id\":100,\n",
    "    \"First name\":\"John\",\n",
    "    \"LASTNAME\": \"Smith\",\n",
    "    \"age in years\" : \"42\",\n",
    "    \"Where are you from\":\"USA\"\n",
    "    \n",
    "}\n",
    "'''\n",
    "\n",
    "from pydantic import BaseModel,Field\n",
    "\n",
    "class Person(BaseModel):\n",
    "    id_:int = Field(alias=\"id\")\n",
    "    first_name:str = Field(alias=\"First name\")\n",
    "    last_name:str = Field(alias=\"LASTNAME\")\n",
    "    age:int = Field(alias = \"age in years\")\n",
    "    country:str = Field(alias= \"Where are you from\")\n",
    "\n",
    "p1 = Person.model_validate_json(data_json)\n",
    "print(p1)"
   ]
  },
  {
   "cell_type": "code",
   "execution_count": 46,
   "metadata": {},
   "outputs": [
    {
     "name": "stdout",
     "output_type": "stream",
     "text": [
      "Lunar Colony\n",
      "Central City\n"
     ]
    }
   ],
   "source": [
    "data:str = '''\n",
    "{\n",
    "    \"firstName\": \"Arthur\",\n",
    "    \"lastName\": \"Clarke\",\n",
    "    \"born\":{\n",
    "        \"place\":{\n",
    "            \"country\":\"Lunar Colony\",\n",
    "            \"city\": \"Central City\"\n",
    "        },\n",
    "        \"date\":\"2001-01-01\"\n",
    "    }\n",
    "}\n",
    "'''\n",
    "\n",
    "from pydantic import BaseModel,Field\n",
    "\n",
    "class Place(BaseModel):\n",
    "    country:str\n",
    "    city:str\n",
    "\n",
    "class Born(BaseModel):\n",
    "    place:Place\n",
    "    date:str\n",
    "\n",
    "class Person(BaseModel):\n",
    "    first_name:str = Field(alias=\"firstName\")\n",
    "    last_name:str = Field(alias=\"lastName\")\n",
    "    born:Born\n",
    "\n",
    "p1 = Person.model_validate_json(data)\n",
    "print(p1.born.place.country)\n",
    "print(p1.born.place.city)"
   ]
  },
  {
   "cell_type": "code",
   "execution_count": null,
   "metadata": {},
   "outputs": [],
   "source": []
  }
 ],
 "metadata": {
  "kernelspec": {
   "display_name": "Python 3",
   "language": "python",
   "name": "python3"
  },
  "language_info": {
   "codemirror_mode": {
    "name": "ipython",
    "version": 3
   },
   "file_extension": ".py",
   "mimetype": "text/x-python",
   "name": "python",
   "nbconvert_exporter": "python",
   "pygments_lexer": "ipython3",
   "version": "3.10.14"
  }
 },
 "nbformat": 4,
 "nbformat_minor": 2
}
