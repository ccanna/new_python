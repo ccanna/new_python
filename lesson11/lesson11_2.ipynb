{
 "cells": [
  {
   "cell_type": "markdown",
   "metadata": {},
   "source": [
    "### 操作方式和DataClass一樣"
   ]
  },
  {
   "cell_type": "code",
   "execution_count": 10,
   "metadata": {},
   "outputs": [
    {
     "name": "stdout",
     "output_type": "stream",
     "text": [
      "Jone\n",
      "Smith\n",
      "42\n",
      "USA\n",
      "first_name='Jone' last_name='Smith' age=42 country='USA'\n"
     ]
    }
   ],
   "source": [
    "#可以取代lesson9_2繼承\n",
    "\n",
    "from pydantic import BaseModel\n",
    "\n",
    "class Person(BaseModel):\n",
    "    #field欄位一定要有type hint\n",
    "    first_name:str\n",
    "    last_name:str\n",
    "    age:int\n",
    "    country:str\n",
    "\n",
    "\n",
    "p = Person(first_name=\"Jone\", last_name=\"Smith\", age=\"42\",country=\"USA\")\n",
    "print(p.first_name)\n",
    "print(p.last_name)\n",
    "print(p.age)\n",
    "print(p.country)\n",
    "print(p)"
   ]
  },
  {
   "cell_type": "markdown",
   "metadata": {},
   "source": [
    "## dataclass做不到的事\n",
    "- 驗證資料\n",
    "- pydantic可以自動幫轉為數字，也能檢核錯誤不容易導致資料出錯"
   ]
  },
  {
   "cell_type": "code",
   "execution_count": 2,
   "metadata": {},
   "outputs": [
    {
     "name": "stdout",
     "output_type": "stream",
     "text": [
      "first_name='Jone' last_name='Smith' age=42\n"
     ]
    }
   ],
   "source": [
    "p1 = Person(first_name=\"Jone\", last_name=\"Smith\", age=\"42\")\n",
    "print(p1)"
   ]
  },
  {
   "cell_type": "code",
   "execution_count": 3,
   "metadata": {},
   "outputs": [
    {
     "name": "stdout",
     "output_type": "stream",
     "text": [
      "1 validation error for Person\n",
      "age\n",
      "  Input should be a valid integer, unable to parse string as an integer [type=int_parsing, input_value='abc', input_type=str]\n",
      "    For further information visit https://errors.pydantic.dev/2.7/v/int_parsing\n"
     ]
    }
   ],
   "source": [
    "try:\n",
    "    p2 = Person(first_name=\"Jone\", last_name=\"Smith\", age=\"abc\")\n",
    "\n",
    "except Exception as error:\n",
    "    print(error)"
   ]
  },
  {
   "cell_type": "markdown",
   "metadata": {},
   "source": [
    "### 可以將純文字轉成pydantic實體\n",
    "- model_validate_jason()"
   ]
  },
  {
   "cell_type": "code",
   "execution_count": 11,
   "metadata": {},
   "outputs": [
    {
     "name": "stdout",
     "output_type": "stream",
     "text": [
      "first_name='John' last_name='Smith' age=42 country='USA'\n"
     ]
    }
   ],
   "source": [
    "#'''的意思是多行文字\n",
    "\n",
    "\n",
    "data_json='''\n",
    "{\n",
    "    \"first_name\":\"John\",\n",
    "    \"last_name\": \"Smith\",\n",
    "    \"age\" : \"42\",\n",
    "    \"country\":\"USA\"\n",
    "    \n",
    "}\n",
    "'''\n",
    "\n",
    "p3= Person.model_validate_json(data_json)\n",
    "print(p3)\n"
   ]
  },
  {
   "cell_type": "code",
   "execution_count": null,
   "metadata": {},
   "outputs": [],
   "source": []
  }
 ],
 "metadata": {
  "kernelspec": {
   "display_name": "Python 3",
   "language": "python",
   "name": "python3"
  },
  "language_info": {
   "codemirror_mode": {
    "name": "ipython",
    "version": 3
   },
   "file_extension": ".py",
   "mimetype": "text/x-python",
   "name": "python",
   "nbconvert_exporter": "python",
   "pygments_lexer": "ipython3",
   "version": "3.10.14"
  }
 },
 "nbformat": 4,
 "nbformat_minor": 2
}
