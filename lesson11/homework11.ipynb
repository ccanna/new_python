{
 "cells": [
  {
   "cell_type": "code",
   "execution_count": 15,
   "metadata": {},
   "outputs": [
    {
     "name": "stdout",
     "output_type": "stream",
     "text": [
      "name='Scott' website='stackabuse.com' from_data='Nebraska'\n",
      "name='Larry' website='google.com' from_data='Michigan'\n"
     ]
    }
   ],
   "source": [
    "from pydantic import BaseModel,Field\n",
    "\n",
    "class People(BaseModel):\n",
    "    name:str\n",
    "    website:str \n",
    "    from_data:str = Field(alias='from')\n",
    "\n",
    "class P(BaseModel):\n",
    "    people:list[People]\n",
    "\n",
    "with open('data.json', encoding='utf-8') as file:\n",
    "    p:P = P.model_validate_json(file.read())\n",
    "\n",
    "data_list:list[People] = p.people\n",
    "for item in data_list:\n",
    "    print(item)"
   ]
  },
  {
   "cell_type": "markdown",
   "metadata": {},
   "source": []
  },
  {
   "cell_type": "code",
   "execution_count": null,
   "metadata": {},
   "outputs": [],
   "source": []
  }
 ],
 "metadata": {
  "kernelspec": {
   "display_name": "Python 3",
   "language": "python",
   "name": "python3"
  },
  "language_info": {
   "codemirror_mode": {
    "name": "ipython",
    "version": 3
   },
   "file_extension": ".py",
   "mimetype": "text/x-python",
   "name": "python",
   "nbconvert_exporter": "python",
   "pygments_lexer": "ipython3",
   "version": "3.10.14"
  }
 },
 "nbformat": 4,
 "nbformat_minor": 2
}
