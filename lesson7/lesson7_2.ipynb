{
 "cells": [
  {
   "cell_type": "code",
   "execution_count": null,
   "metadata": {},
   "outputs": [],
   "source": [
    "deposit = 0\n",
    "\n",
    "while deposit <30000:\n",
    "    deposit += 11000\n",
    "\n",
    "print(f\"小明已經存了{deposit}元\")"
   ]
  },
  {
   "cell_type": "code",
   "execution_count": null,
   "metadata": {},
   "outputs": [],
   "source": [
    "import pyinputplus as pyip\n",
    "\n",
    "deposit = 0\n",
    "\n",
    "while deposit <30000:\n",
    "    input_money = pyip.inputInt(\"請輸入這個月存的金額:\")\n",
    "    print(input_money)\n",
    "\n",
    "    deposit += input_money\n",
    "print(f\"最後一次存的金額是: {input_money}元\")\n",
    "print(f\"小明已經存了{deposit}元\")\n"
   ]
  },
  {
   "cell_type": "code",
   "execution_count": null,
   "metadata": {},
   "outputs": [],
   "source": [
    "import pyinputplus as pyip\n",
    "\n",
    "deposit = 0\n",
    "num = 0\n",
    "while deposit <30000:\n",
    "    input_money = pyip.inputInt(f\"請輸入第{num+1}月的金額:\")\n",
    "    print(input_money)\n",
    "    deposit += input_money\n",
    "    num += 1\n",
    "print(f\"最後一次存的金額是: {input_money}元\")\n",
    "print(f\"小明總共存了{num}個月,已經存了{deposit}元\")\n"
   ]
  },
  {
   "cell_type": "code",
   "execution_count": null,
   "metadata": {},
   "outputs": [],
   "source": [
    "import pyinputplus as pyip\n",
    "\n",
    "deposit = 0\n",
    "num = 0\n",
    "while True:\n",
    "    num += 1\n",
    "    input_money = pyip.inputInt(f\"請輸入第{num}月的金額:\")\n",
    "    print(input_money)\n",
    "    deposit += input_money\n",
    "    if deposit >=30000:\n",
    "        break\n",
    "    \n",
    "print(f\"最後一次存的金額是: {input_money}元\")\n",
    "print(f\"小明總共存了{num}個月,已經存了{deposit}元\")\n"
   ]
  },
  {
   "cell_type": "code",
   "execution_count": null,
   "metadata": {},
   "outputs": [],
   "source": [
    "#小明想要存錢買一輛機車,機車每輛30000元，他將每月存的錢輸入，當存款足夠買機車時，就顯示提示訊息告知。\n",
    "import pyinputplus as pyip\n",
    "deposit = 0\n",
    "\n",
    "\n",
    "while True:\n",
    "    n = pyip.inputInt ('請輸入您每月存的金額:')\n",
    "    print(n)\n",
    "    j = pyip.inputInt ('請輸入您存幾個月:')\n",
    "    print(j)\n",
    "    deposit = n * j\n",
    "    print (f'您目前存款金額:{deposit}')    \n",
    "\n",
    "    if deposit >=30000:\n",
    "        break    \n",
    "print (f'您已達到存款金額:{deposit}')"
   ]
  },
  {
   "cell_type": "code",
   "execution_count": null,
   "metadata": {},
   "outputs": [],
   "source": [
    " #請輸入整數，輸入[q]離開:\n",
    "#顯示:\n",
    "#奇數輸出平方\n",
    "#偶數不做任何動作\n",
    "#'q'要離開\n",
    "\n",
    "while True:\n",
    "    value = input(f'請輸入整數:(按「q」離開)')\n",
    "    if value == 'q':\n",
    "        break\n",
    "\n",
    "    try:\n",
    "        valueInt = int(value)\n",
    "    except:\n",
    "        print('輸入錯誤')\n",
    "        continue\n",
    "\n",
    "    if valueInt % 2 ==1:\n",
    "        print(f'{valueInt}的平方是{valueInt**2}')\n",
    "    else:\n",
    "        print(\"不做事\")\n",
    "    \n",
    "print(\"應用程式結束\")"
   ]
  },
  {
   "cell_type": "markdown",
   "metadata": {},
   "source": [
    "### 輸入:\n",
    " 請輸入整數，求所有因數:10\n",
    "\n",
    "### 輸出:\n",
    " 10的因數是:\n",
    " 1 2 5 10"
   ]
  },
  {
   "cell_type": "code",
   "execution_count": 1,
   "metadata": {},
   "outputs": [
    {
     "name": "stdout",
     "output_type": "stream",
     "text": [
      "\n",
      "請輸入整數，求所有因數(輸入「q」離開):\n",
      "輸入錯誤2e，請輸入數字\n",
      "\n",
      "請輸入整數，求所有因數(輸入「q」離開):\n",
      "您輸入的整數是:10\n",
      "10的因數是:\n",
      "1 2 5 10 \n",
      "請輸入整數，求所有因數(輸入「q」離開):\n",
      "\n",
      "結束離開\n"
     ]
    }
   ],
   "source": [
    "\n",
    "while True:\n",
    "    print(\"\\n請輸入整數，求所有因數(輸入「q」離開):\")\n",
    "    value = input(f'請輸入整數，求所有因數(輸入「q」離開):')\n",
    "        \n",
    "    if value == 'q':\n",
    "        print('\\n結束離開')\n",
    "        break\n",
    "    try:  \n",
    "        value = int(value)\n",
    "        print(f'您輸入的整數是:{value}')\n",
    "        print (f'{value}的因數是:')\n",
    "            \n",
    "    except:\n",
    "        print(f'輸入錯誤{value}，請輸入數字')\n",
    "        continue\n",
    "                    \n",
    "    for i in range(1, value+1):\n",
    "        if value % i == 0:\n",
    "            print(f'{i}', end=' ')\n"
   ]
  },
  {
   "cell_type": "code",
   "execution_count": null,
   "metadata": {},
   "outputs": [],
   "source": []
  }
 ],
 "metadata": {
  "kernelspec": {
   "display_name": "Python 3",
   "language": "python",
   "name": "python3"
  },
  "language_info": {
   "codemirror_mode": {
    "name": "ipython",
    "version": 3
   },
   "file_extension": ".py",
   "mimetype": "text/x-python",
   "name": "python",
   "nbconvert_exporter": "python",
   "pygments_lexer": "ipython3",
   "version": "3.10.14"
  }
 },
 "nbformat": 4,
 "nbformat_minor": 2
}
