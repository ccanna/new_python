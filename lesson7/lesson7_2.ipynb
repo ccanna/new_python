{
 "cells": [
  {
   "cell_type": "code",
   "execution_count": 13,
   "metadata": {},
   "outputs": [
    {
     "name": "stdout",
     "output_type": "stream",
     "text": [
      "小明已經存了33000元\n"
     ]
    }
   ],
   "source": [
    "deposit = 0\n",
    "\n",
    "while deposit <30000:\n",
    "    deposit += 11000\n",
    "\n",
    "print(f\"小明已經存了{deposit}元\")"
   ]
  },
  {
   "cell_type": "code",
   "execution_count": 17,
   "metadata": {},
   "outputs": [
    {
     "name": "stdout",
     "output_type": "stream",
     "text": [
      "請輸入這個月存的金額:2000\n",
      "請輸入這個月存的金額:8000\n",
      "請輸入這個月存的金額:3000\n",
      "請輸入這個月存的金額:4000\n",
      "請輸入這個月存的金額:4500\n",
      "請輸入這個月存的金額:6000\n",
      "請輸入這個月存的金額:2000\n",
      "請輸入這個月存的金額:7000\n",
      "最後一次存的金額是: 7000元\n",
      "小明已經存了36500元\n"
     ]
    }
   ],
   "source": [
    "import pyinputplus as pyip\n",
    "\n",
    "deposit = 0\n",
    "\n",
    "while deposit <30000:\n",
    "    input_money = pyip.inputInt(\"請輸入這個月存的金額:\")\n",
    "    print(input_money)\n",
    "\n",
    "    deposit += input_money\n",
    "print(f\"最後一次存的金額是: {input_money}元\")\n",
    "print(f\"小明已經存了{deposit}元\")\n"
   ]
  },
  {
   "cell_type": "code",
   "execution_count": 20,
   "metadata": {},
   "outputs": [
    {
     "name": "stdout",
     "output_type": "stream",
     "text": [
      "請輸入第1月的金額:80000\n",
      "最後一次存的金額是: 80000元\n",
      "小明總共存了1個月,已經存了80000元\n"
     ]
    }
   ],
   "source": [
    "import pyinputplus as pyip\n",
    "\n",
    "deposit = 0\n",
    "num = 0\n",
    "while deposit <30000:\n",
    "    input_money = pyip.inputInt(f\"請輸入第{num+1}月的金額:\")\n",
    "    print(input_money)\n",
    "    deposit += input_money\n",
    "    num += 1\n",
    "print(f\"最後一次存的金額是: {input_money}元\")\n",
    "print(f\"小明總共存了{num}個月,已經存了{deposit}元\")\n"
   ]
  },
  {
   "cell_type": "code",
   "execution_count": 27,
   "metadata": {},
   "outputs": [
    {
     "name": "stdout",
     "output_type": "stream",
     "text": [
      "請輸入第1月的金額:1234\n",
      "請輸入第2月的金額:680\n",
      "請輸入第3月的金額:32435874\n",
      "最後一次存的金額是: 32435874元\n",
      "小明總共存了3個月,已經存了32437788元\n"
     ]
    }
   ],
   "source": [
    "import pyinputplus as pyip\n",
    "\n",
    "deposit = 0\n",
    "num = 0\n",
    "while True:\n",
    "    num += 1\n",
    "    input_money = pyip.inputInt(f\"請輸入第{num}月的金額:\")\n",
    "    print(input_money)\n",
    "    deposit += input_money\n",
    "    if deposit >=30000:\n",
    "        break\n",
    "    \n",
    "print(f\"最後一次存的金額是: {input_money}元\")\n",
    "print(f\"小明總共存了{num}個月,已經存了{deposit}元\")\n"
   ]
  },
  {
   "cell_type": "code",
   "execution_count": 3,
   "metadata": {},
   "outputs": [
    {
     "name": "stdout",
     "output_type": "stream",
     "text": [
      "請輸入您每月存的金額:2000\n",
      "請輸入您存幾個月:3\n",
      "您目前存款金額:6000\n",
      "請輸入您每月存的金額:6000\n",
      "請輸入您存幾個月:5\n",
      "您目前存款金額:30000\n",
      "您已達到存款金額:30000\n"
     ]
    }
   ],
   "source": [
    "#小明想要存錢買一輛機車,機車每輛30000元，他將每月存的錢輸入，當存款足夠買機車時，就顯示提示訊息告知。\n",
    "import pyinputplus as pyip\n",
    "deposit = 0\n",
    "\n",
    "\n",
    "while True:\n",
    "    n = pyip.inputInt ('請輸入您每月存的金額:')\n",
    "    print(n)\n",
    "    j = pyip.inputInt ('請輸入您存幾個月:')\n",
    "    print(j)\n",
    "    deposit = n * j\n",
    "    print (f'您目前存款金額:{deposit}')    \n",
    "\n",
    "    if deposit >=30000:\n",
    "        break    \n",
    "print (f'您已達到存款金額:{deposit}')"
   ]
  },
  {
   "cell_type": "code",
   "execution_count": null,
   "metadata": {},
   "outputs": [],
   "source": []
  },
  {
   "cell_type": "code",
   "execution_count": null,
   "metadata": {},
   "outputs": [],
   "source": []
  }
 ],
 "metadata": {
  "kernelspec": {
   "display_name": "Python 3",
   "language": "python",
   "name": "python3"
  },
  "language_info": {
   "codemirror_mode": {
    "name": "ipython",
    "version": 3
   },
   "file_extension": ".py",
   "mimetype": "text/x-python",
   "name": "python",
   "nbconvert_exporter": "python",
   "pygments_lexer": "ipython3",
   "version": "3.10.14"
  }
 },
 "nbformat": 4,
 "nbformat_minor": 2
}
