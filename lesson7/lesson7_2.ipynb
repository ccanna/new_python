{
 "cells": [
  {
   "cell_type": "code",
   "execution_count": 13,
   "metadata": {},
   "outputs": [
    {
     "name": "stdout",
     "output_type": "stream",
     "text": [
      "小明已經存了33000元\n"
     ]
    }
   ],
   "source": [
    "deposit = 0\n",
    "\n",
    "while deposit <30000:\n",
    "    deposit += 11000\n",
    "\n",
    "print(f\"小明已經存了{deposit}元\")"
   ]
  },
  {
   "cell_type": "code",
   "execution_count": 17,
   "metadata": {},
   "outputs": [
    {
     "name": "stdout",
     "output_type": "stream",
     "text": [
      "請輸入這個月存的金額:2000\n",
      "請輸入這個月存的金額:8000\n",
      "請輸入這個月存的金額:3000\n",
      "請輸入這個月存的金額:4000\n",
      "請輸入這個月存的金額:4500\n",
      "請輸入這個月存的金額:6000\n",
      "請輸入這個月存的金額:2000\n",
      "請輸入這個月存的金額:7000\n",
      "最後一次存的金額是: 7000元\n",
      "小明已經存了36500元\n"
     ]
    }
   ],
   "source": [
    "import pyinputplus as pyip\n",
    "\n",
    "deposit = 0\n",
    "\n",
    "while deposit <30000:\n",
    "    input_money = pyip.inputInt(\"請輸入這個月存的金額:\")\n",
    "    print(input_money)\n",
    "\n",
    "    deposit += input_money\n",
    "print(f\"最後一次存的金額是: {input_money}元\")\n",
    "print(f\"小明已經存了{deposit}元\")\n"
   ]
  },
  {
   "cell_type": "code",
   "execution_count": 20,
   "metadata": {},
   "outputs": [
    {
     "name": "stdout",
     "output_type": "stream",
     "text": [
      "請輸入第1月的金額:80000\n",
      "最後一次存的金額是: 80000元\n",
      "小明總共存了1個月,已經存了80000元\n"
     ]
    }
   ],
   "source": [
    "import pyinputplus as pyip\n",
    "\n",
    "deposit = 0\n",
    "num = 0\n",
    "while deposit <30000:\n",
    "    input_money = pyip.inputInt(f\"請輸入第{num+1}月的金額:\")\n",
    "    print(input_money)\n",
    "    deposit += input_money\n",
    "    num += 1\n",
    "print(f\"最後一次存的金額是: {input_money}元\")\n",
    "print(f\"小明總共存了{num}個月,已經存了{deposit}元\")\n"
   ]
  },
  {
   "cell_type": "code",
   "execution_count": 4,
   "metadata": {},
   "outputs": [
    {
     "name": "stdout",
     "output_type": "stream",
     "text": [
      "請輸入第1月的金額:5000\n",
      "請輸入第2月的金額:8900\n",
      "請輸入第3月的金額:4\n",
      "請輸入第4月的金額:6000\n",
      "請輸入第5月的金額:850\n",
      "請輸入第6月的金額:7000\n",
      "請輸入第7月的金額:9000\n",
      "最後一次存的金額是: 9000元\n",
      "小明總共存了7個月,已經存了36754元\n"
     ]
    }
   ],
   "source": [
    "import pyinputplus as pyip\n",
    "\n",
    "deposit = 0\n",
    "num = 0\n",
    "while True:\n",
    "    num += 1\n",
    "    input_money = pyip.inputInt(f\"請輸入第{num}月的金額:\")\n",
    "    print(input_money)\n",
    "    deposit += input_money\n",
    "    if deposit >=30000:\n",
    "        break\n",
    "    \n",
    "print(f\"最後一次存的金額是: {input_money}元\")\n",
    "print(f\"小明總共存了{num}個月,已經存了{deposit}元\")\n"
   ]
  },
  {
   "cell_type": "code",
   "execution_count": 3,
   "metadata": {},
   "outputs": [
    {
     "name": "stdout",
     "output_type": "stream",
     "text": [
      "請輸入您每月存的金額:2000\n",
      "請輸入您存幾個月:3\n",
      "您目前存款金額:6000\n",
      "請輸入您每月存的金額:6000\n",
      "請輸入您存幾個月:5\n",
      "您目前存款金額:30000\n",
      "您已達到存款金額:30000\n"
     ]
    }
   ],
   "source": [
    "#小明想要存錢買一輛機車,機車每輛30000元，他將每月存的錢輸入，當存款足夠買機車時，就顯示提示訊息告知。\n",
    "import pyinputplus as pyip\n",
    "deposit = 0\n",
    "\n",
    "\n",
    "while True:\n",
    "    n = pyip.inputInt ('請輸入您每月存的金額:')\n",
    "    print(n)\n",
    "    j = pyip.inputInt ('請輸入您存幾個月:')\n",
    "    print(j)\n",
    "    deposit = n * j\n",
    "    print (f'您目前存款金額:{deposit}')    \n",
    "\n",
    "    if deposit >=30000:\n",
    "        break    \n",
    "print (f'您已達到存款金額:{deposit}')"
   ]
  },
  {
   "cell_type": "code",
   "execution_count": 13,
   "metadata": {},
   "outputs": [
    {
     "name": "stdout",
     "output_type": "stream",
     "text": [
      "5的平方是25\n",
      "7的平方是49\n",
      "不錯事\n",
      "9的平方是81\n",
      "輸入錯誤\n",
      "應用程式結束\n"
     ]
    }
   ],
   "source": [
    " #請輸入整數，輸入[q]離開:\n",
    "#顯示:\n",
    "#奇數輸出平方\n",
    "#偶數不做任何動作\n",
    "#'q'要離開\n",
    "\n",
    "while True:\n",
    "    value = input(f'請輸入整數:(按「q」離開)')\n",
    "    if value == 'q':\n",
    "        break\n",
    "\n",
    "    try:\n",
    "        valueInt = int(value)\n",
    "    except:\n",
    "        print('輸入錯誤')\n",
    "        continue\n",
    "\n",
    "    if valueInt % 2 ==1:\n",
    "        print(f'{valueInt}的平方是{valueInt**2}')\n",
    "    else:\n",
    "        print(\"不做事\")\n",
    "    \n",
    "print(\"應用程式結束\")"
   ]
  },
  {
   "cell_type": "code",
   "execution_count": null,
   "metadata": {},
   "outputs": [],
   "source": []
  },
  {
   "cell_type": "code",
   "execution_count": null,
   "metadata": {},
   "outputs": [],
   "source": []
  }
 ],
 "metadata": {
  "kernelspec": {
   "display_name": "Python 3",
   "language": "python",
   "name": "python3"
  },
  "language_info": {
   "codemirror_mode": {
    "name": "ipython",
    "version": 3
   },
   "file_extension": ".py",
   "mimetype": "text/x-python",
   "name": "python",
   "nbconvert_exporter": "python",
   "pygments_lexer": "ipython3",
   "version": "3.10.14"
  }
 },
 "nbformat": 4,
 "nbformat_minor": 2
}
