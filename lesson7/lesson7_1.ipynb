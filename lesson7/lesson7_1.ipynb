{
 "cells": [
  {
   "cell_type": "code",
   "execution_count": 5,
   "metadata": {},
   "outputs": [
    {
     "name": "stdout",
     "output_type": "stream",
     "text": [
      "1加到10 = 55\n"
     ]
    }
   ],
   "source": [
    "#1~10的結果\n",
    "\n",
    "total = 0\n",
    "total += 1\n",
    "total += 2\n",
    "total += 3\n",
    "total += 4\n",
    "total += 5\n",
    "total += 6\n",
    "total += 7\n",
    "total += 8\n",
    "total += 9\n",
    "total += 10\n",
    "\n",
    "print (f\"1加到10 = {total}\")\n"
   ]
  },
  {
   "cell_type": "code",
   "execution_count": 1,
   "metadata": {},
   "outputs": [
    {
     "name": "stdout",
     "output_type": "stream",
     "text": [
      "0\n",
      "1\n",
      "2\n",
      "3\n",
      "4\n"
     ]
    }
   ],
   "source": [
    "for i in range(5):\n",
    "    print(i)"
   ]
  },
  {
   "cell_type": "code",
   "execution_count": 2,
   "metadata": {},
   "outputs": [
    {
     "name": "stdout",
     "output_type": "stream",
     "text": [
      "1\n",
      "2\n",
      "3\n",
      "4\n",
      "5\n",
      "6\n",
      "7\n",
      "8\n",
      "9\n"
     ]
    }
   ],
   "source": [
    "for i in range (1,10):\n",
    "    print(i)\n",
    "\n",
    "#print有隱形的 \"\\n\"換行符號"
   ]
  },
  {
   "cell_type": "code",
   "execution_count": 7,
   "metadata": {},
   "outputs": [
    {
     "name": "stdout",
     "output_type": "stream",
     "text": [
      "1 2 3 4 5 6 7 8 9 "
     ]
    }
   ],
   "source": [
    "for i in range(1,10):\n",
    "    print( i , end=' ')  \n",
    "\n",
    "# end=' '雙引號中間空格，要求答案顯示中間空格"
   ]
  },
  {
   "cell_type": "code",
   "execution_count": 9,
   "metadata": {},
   "outputs": [
    {
     "name": "stdout",
     "output_type": "stream",
     "text": [
      "1 3 5 7 9 "
     ]
    }
   ],
   "source": [
    "#1~10 每次加2\n",
    "for i in range (1, 10, 2):\n",
    "    print(i, end=' ')"
   ]
  },
  {
   "cell_type": "code",
   "execution_count": 11,
   "metadata": {},
   "outputs": [
    {
     "name": "stdout",
     "output_type": "stream",
     "text": [
      "1加到10 = 55\n"
     ]
    }
   ],
   "source": [
    "total = 0\n",
    "for i in range(1,11):\n",
    "    total += i\n",
    "\n",
    "print (f\"1加到10 = {total}\")\n"
   ]
  },
  {
   "cell_type": "code",
   "execution_count": 2,
   "metadata": {},
   "outputs": [
    {
     "name": "stdout",
     "output_type": "stream",
     "text": [
      "10\n",
      "9\n",
      "8\n",
      "7\n",
      "6\n",
      "5\n",
      "4\n",
      "3\n",
      "2\n",
      "1\n"
     ]
    }
   ],
   "source": [
    "for i in range (10, 0, -1):\n",
    "    print(i)"
   ]
  },
  {
   "cell_type": "code",
   "execution_count": 5,
   "metadata": {},
   "outputs": [
    {
     "name": "stdout",
     "output_type": "stream",
     "text": [
      "1加到10 = 55\n"
     ]
    }
   ],
   "source": [
    "total = 0\n",
    "for i in range(10,0,-1):\n",
    "    total += i\n",
    "\n",
    "print (f\"1加到10 = {total}\")"
   ]
  },
  {
   "cell_type": "code",
   "execution_count": 9,
   "metadata": {},
   "outputs": [
    {
     "name": "stdout",
     "output_type": "stream",
     "text": [
      "請輸入1加到? 最小10,最大1000899\n",
      "1+....+899:404550\n"
     ]
    }
   ],
   "source": [
    "import pyinputplus as pyip\n",
    "\n",
    "n = pyip.inputInt ('請輸入1加到? 最小10,最大1000', min=10, max=1000)\n",
    "print (n)\n",
    "\n",
    "total = 0\n",
    "for i in range(1, n+1 ):\n",
    "     total += i\n",
    "print(f'1+....+{n}:{total}')"
   ]
  },
  {
   "cell_type": "code",
   "execution_count": 5,
   "metadata": {},
   "outputs": [
    {
     "name": "stdout",
     "output_type": "stream",
     "text": [
      "i=0\n",
      "j=0 j=1 j=2 j=3 j=4 j=5 j=6 j=7 j=8 j=9 \n",
      "================\n",
      "i=1\n",
      "j=0 j=1 j=2 j=3 j=4 j=5 j=6 j=7 j=8 j=9 \n",
      "================\n",
      "i=2\n",
      "j=0 j=1 j=2 j=3 j=4 j=5 j=6 j=7 j=8 j=9 \n",
      "================\n",
      "i=3\n",
      "j=0 j=1 j=2 j=3 j=4 j=5 j=6 j=7 j=8 j=9 \n",
      "================\n",
      "i=4\n",
      "j=0 j=1 j=2 j=3 j=4 j=5 j=6 j=7 j=8 j=9 \n",
      "================\n",
      "i=5\n",
      "j=0 j=1 j=2 j=3 j=4 j=5 j=6 j=7 j=8 j=9 \n",
      "================\n",
      "i=6\n",
      "j=0 j=1 j=2 j=3 j=4 j=5 j=6 j=7 j=8 j=9 \n",
      "================\n",
      "i=7\n",
      "j=0 j=1 j=2 j=3 j=4 j=5 j=6 j=7 j=8 j=9 \n",
      "================\n",
      "i=8\n",
      "j=0 j=1 j=2 j=3 j=4 j=5 j=6 j=7 j=8 j=9 \n",
      "================\n",
      "i=9\n",
      "j=0 j=1 j=2 j=3 j=4 j=5 j=6 j=7 j=8 j=9 \n",
      "================\n"
     ]
    }
   ],
   "source": [
    "#巢狀迴圈\n",
    "\n",
    "for i in range (0, 10):\n",
    "    print (f'i={i}')\n",
    "    for j in range(0, 10):\n",
    "        print (f'j={j}',end=' ')\n",
    "    print('\\n================')"
   ]
  },
  {
   "cell_type": "code",
   "execution_count": null,
   "metadata": {},
   "outputs": [],
   "source": []
  }
 ],
 "metadata": {
  "kernelspec": {
   "display_name": "Python 3",
   "language": "python",
   "name": "python3"
  },
  "language_info": {
   "codemirror_mode": {
    "name": "ipython",
    "version": 3
   },
   "file_extension": ".py",
   "mimetype": "text/x-python",
   "name": "python",
   "nbconvert_exporter": "python",
   "pygments_lexer": "ipython3",
   "version": "3.10.14"
  }
 },
 "nbformat": 4,
 "nbformat_minor": 2
}
