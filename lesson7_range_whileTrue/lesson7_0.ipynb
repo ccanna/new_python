{
 "cells": [
  {
   "cell_type": "code",
   "execution_count": 4,
   "metadata": {},
   "outputs": [
    {
     "name": "stdout",
     "output_type": "stream",
     "text": [
      "jason, 您的BMI: 19.59\n",
      "您的體重:正常體重\n"
     ]
    }
   ],
   "source": [
    "try:\n",
    "    name = input('請輸入姓名:')\n",
    "    height = float(input('請輸入身高(120~230)(cm):')) \n",
    "    if height<120 or height>230:\n",
    "        raise Exception(\"身高必需大於120同時小於230\")    \n",
    "    weight = float(input('請輸入體重(40~170)(kg):'))\n",
    "    if weight<40 or weight>170:\n",
    "        raise Exception(\"體重必需大於40同時小於170\")\n",
    "    bmi = weight / (height / 100) ** 2\n",
    "    print(f'{name}, 您的BMI: {round(bmi,ndigits=2)}')\n",
    "\n",
    "except Exception as e:\n",
    "    print(f'錯誤: {e}')\n",
    "\n",
    "else:\n",
    "    if bmi <18.5:\n",
    "        remind = '體重過輕'\n",
    "    elif bmi >=18.5 and bmi <24:\n",
    "        remind = '正常體重'\n",
    "    elif bmi >=24 and bmi <27:\n",
    "        remind = '體重過重'\n",
    "    elif bmi >=27 and bmi <30:\n",
    "        remind = '輕度肥胖'\n",
    "    elif bmi >=30 and bmi <35:\n",
    "        remind = '中度肥胖'\n",
    "    else:\n",
    "        remind = '重度肥胖'\n",
    "    \n",
    "    print (f'您的體重:{remind}')"
   ]
  },
  {
   "cell_type": "code",
   "execution_count": null,
   "metadata": {},
   "outputs": [],
   "source": []
  }
 ],
 "metadata": {
  "kernelspec": {
   "display_name": "Python 3",
   "language": "python",
   "name": "python3"
  },
  "language_info": {
   "codemirror_mode": {
    "name": "ipython",
    "version": 3
   },
   "file_extension": ".py",
   "mimetype": "text/x-python",
   "name": "python",
   "nbconvert_exporter": "python",
   "pygments_lexer": "ipython3",
   "version": "3.10.14"
  }
 },
 "nbformat": 4,
 "nbformat_minor": 2
}
