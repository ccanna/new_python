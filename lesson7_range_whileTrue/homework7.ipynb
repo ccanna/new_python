{
 "cells": [
  {
   "cell_type": "markdown",
   "metadata": {},
   "source": [
    "### 輸入:\n",
    " 請輸入整數，求所有因數:10\n",
    "\n",
    "### 輸出:\n",
    " 10的因數是:\n",
    " 1 2 5 10"
   ]
  },
  {
   "cell_type": "code",
   "execution_count": 1,
   "metadata": {},
   "outputs": [
    {
     "name": "stdout",
     "output_type": "stream",
     "text": [
      "\n",
      "請輸入整數，求所有因數(輸入「q」離開):\n",
      "輸入錯誤2d，請輸入數字\n",
      "\n",
      "請輸入整數，求所有因數(輸入「q」離開):\n",
      "您輸入的整數是:10\n",
      "10的因數是:\n",
      "1 2 5 10 \n",
      "請輸入整數，求所有因數(輸入「q」離開):\n",
      "\n",
      "結束離開\n"
     ]
    }
   ],
   "source": [
    "while True:\n",
    "    print(\"\\n請輸入整數，求所有因數(輸入「q」離開):\")\n",
    "    value = input(f'請輸入整數，求所有因數(輸入「q」離開):')\n",
    "        \n",
    "    if value == 'q':\n",
    "        print('\\n結束離開')\n",
    "        break\n",
    "    try:  \n",
    "        value = int(value)\n",
    "        print(f'您輸入的整數是:{value}')\n",
    "        print (f'{value}的因數是:')\n",
    "            \n",
    "    except:\n",
    "        print(f'輸入錯誤{value}，請輸入數字')\n",
    "        continue\n",
    "                    \n",
    "    for i in range(1, value+1):\n",
    "        if value % i == 0:\n",
    "            print(f'{i}', end=' ')\n"
   ]
  }
 ],
 "metadata": {
  "kernelspec": {
   "display_name": "Python 3",
   "language": "python",
   "name": "python3"
  },
  "language_info": {
   "codemirror_mode": {
    "name": "ipython",
    "version": 3
   },
   "file_extension": ".py",
   "mimetype": "text/x-python",
   "name": "python",
   "nbconvert_exporter": "python",
   "pygments_lexer": "ipython3",
   "version": "3.10.14"
  }
 },
 "nbformat": 4,
 "nbformat_minor": 2
}
