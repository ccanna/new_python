{
 "cells": [
  {
   "cell_type": "code",
   "execution_count": 9,
   "metadata": {},
   "outputs": [
    {
     "name": "stdout",
     "output_type": "stream",
     "text": [
      "下載成功\n"
     ]
    },
    {
     "ename": "ModuleNotFoundError",
     "evalue": "No module named 'pandas'",
     "output_type": "error",
     "traceback": [
      "\u001b[0;31m---------------------------------------------------------------------------\u001b[0m",
      "\u001b[0;31mModuleNotFoundError\u001b[0m                       Traceback (most recent call last)",
      "Cell \u001b[0;32mIn[9], line 40\u001b[0m\n\u001b[1;32m     36\u001b[0m data \u001b[38;5;241m=\u001b[39m Youbike\u001b[38;5;241m.\u001b[39mmodel_validate_json(res\u001b[38;5;241m.\u001b[39mtext)\n\u001b[1;32m     37\u001b[0m all_sites \u001b[38;5;241m=\u001b[39m data\u001b[38;5;241m.\u001b[39mmodel_dump()\n\u001b[0;32m---> 40\u001b[0m \u001b[38;5;28;01mimport\u001b[39;00m \u001b[38;5;21;01mpandas\u001b[39;00m \u001b[38;5;28;01mas\u001b[39;00m \u001b[38;5;21;01mpd\u001b[39;00m\n\u001b[1;32m     41\u001b[0m df \u001b[38;5;241m=\u001b[39m pd\u001b[38;5;241m.\u001b[39mDataFrame(all_sites)\n\u001b[1;32m     42\u001b[0m df\n",
      "\u001b[0;31mModuleNotFoundError\u001b[0m: No module named 'pandas'"
     ]
    }
   ],
   "source": [
    "import requests\n",
    "\n",
    "from requests import Response\n",
    "youbike_url = 'https://tcgbusfs.blob.core.windows.net/dotapp/youbike/v2/youbike_immediate.json'\n",
    "\n",
    "res:Response = requests.get(youbike_url)\n",
    "\n",
    "if res.status_code == 200:\n",
    "    print(\"下載成功\")\n",
    "else:\n",
    "    print(\"下載失敗\")\n",
    "\n",
    "\n",
    "from pydantic import BaseModel,Field,field_validator,RootModel\n",
    "class Site (BaseModel):\n",
    "    站名:str = Field(alias='sna') \n",
    "    行政區域:str = Field(alias='sarea')\n",
    "    時間:str = Field(alias='mday')\n",
    "    位置:str = Field(alias='ar')\n",
    "    狀態:bool = Field(alias='act')\n",
    "    總數量:int = Field(alias='total')\n",
    "    可借:int = Field(alias='available_rent_bikes')\n",
    "    緯度:float = Field(alias='latitude')\n",
    "    經度:float = Field(alias='longitude')     \n",
    "    可還:int = Field(alias='available_return_bikes')\n",
    "\n",
    "    @field_validator('站名',mode='before')\n",
    "    @classmethod\n",
    "    def get_name(cls,value:str) ->str:\n",
    "         return value.split('_')[-1]   \n",
    "\n",
    "class Youbike(RootModel):\n",
    "    root:list[Site]\n",
    "\n",
    "\n",
    "data = Youbike.model_validate_json(res.text)\n",
    "all_sites = data.model_dump()\n",
    "\n",
    "\n",
    "import pandas as pd\n",
    "df = pd.DataFrame(all_sites)\n",
    "df"
   ]
  },
  {
   "cell_type": "code",
   "execution_count": null,
   "metadata": {},
   "outputs": [
    {
     "ename": "NameError",
     "evalue": "name 'df' is not defined",
     "output_type": "error",
     "traceback": [
      "\u001b[0;31m---------------------------------------------------------------------------\u001b[0m",
      "\u001b[0;31mNameError\u001b[0m                                 Traceback (most recent call last)",
      "Cell \u001b[0;32mIn[5], line 1\u001b[0m\n\u001b[0;32m----> 1\u001b[0m \u001b[43mdf\u001b[49m[df[\u001b[38;5;124m'\u001b[39m\u001b[38;5;124m可借\u001b[39m\u001b[38;5;124m'\u001b[39m] \u001b[38;5;241m<\u001b[39m\u001b[38;5;241m=\u001b[39m \u001b[38;5;241m3\u001b[39m]\n",
      "\u001b[0;31mNameError\u001b[0m: name 'df' is not defined"
     ]
    }
   ],
   "source": [
    "df[df['可借'] <= 3]"
   ]
  }
 ],
 "metadata": {
  "kernelspec": {
   "display_name": "Python 3",
   "language": "python",
   "name": "python3"
  },
  "language_info": {
   "codemirror_mode": {
    "name": "ipython",
    "version": 3
   },
   "file_extension": ".py",
   "mimetype": "text/x-python",
   "name": "python",
   "nbconvert_exporter": "python",
   "pygments_lexer": "ipython3",
   "version": "3.10.14"
  }
 },
 "nbformat": 4,
 "nbformat_minor": 2
}
