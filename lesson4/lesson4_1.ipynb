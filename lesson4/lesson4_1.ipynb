{
 "cells": [
  {
   "cell_type": "code",
   "execution_count": 8,
   "metadata": {},
   "outputs": [
    {
     "name": "stdout",
     "output_type": "stream",
     "text": [
      "3\n",
      "3.1\n",
      "3.14\n"
     ]
    }
   ],
   "source": [
    "#round(number, ndigits=None)\n",
    "#ROUND函數可以將數字(number)做四捨五入，取到我們設定的位數\n",
    "\n",
    "print(round(3.1415926))\n",
    "print(round(3.1415926, ndigits = 1))\n",
    "print(round(3.1415926, ndigits = 2))\n"
   ]
  },
  {
   "cell_type": "code",
   "execution_count": 10,
   "metadata": {},
   "outputs": [
    {
     "name": "stdout",
     "output_type": "stream",
     "text": [
      "4\n"
     ]
    }
   ],
   "source": [
    "import math\n",
    "\n",
    "print(math.ceil(3.1415926))"
   ]
  },
  {
   "cell_type": "code",
   "execution_count": 11,
   "metadata": {},
   "outputs": [
    {
     "name": "stdout",
     "output_type": "stream",
     "text": [
      "3\n"
     ]
    }
   ],
   "source": [
    "print(math.floor(3.1415926))"
   ]
  },
  {
   "cell_type": "code",
   "execution_count": 12,
   "metadata": {},
   "outputs": [
    {
     "name": "stdout",
     "output_type": "stream",
     "text": [
      "10\n"
     ]
    }
   ],
   "source": [
    "n = 10\n",
    "n * 5\n",
    "print(n)"
   ]
  },
  {
   "cell_type": "code",
   "execution_count": 13,
   "metadata": {},
   "outputs": [
    {
     "name": "stdout",
     "output_type": "stream",
     "text": [
      "50\n"
     ]
    }
   ],
   "source": [
    "n = 10\n",
    "n = n * 5\n",
    "print (n)"
   ]
  },
  {
   "cell_type": "code",
   "execution_count": 14,
   "metadata": {},
   "outputs": [
    {
     "name": "stdout",
     "output_type": "stream",
     "text": [
      "50\n"
     ]
    }
   ],
   "source": [
    "n = 10\n",
    "n *= 5 \n",
    "print(n)"
   ]
  },
  {
   "cell_type": "markdown",
   "metadata": {},
   "source": [
    "## 請使用者輸入一個任意數，程式會顯示此數的平方值及立方值"
   ]
  },
  {
   "cell_type": "code",
   "execution_count": 20,
   "metadata": {},
   "outputs": [
    {
     "name": "stdout",
     "output_type": "stream",
     "text": [
      "您輸入的數值是:10, 平方值是:100\n",
      "您輸入的數值是:10, 立方值是:1000\n"
     ]
    }
   ],
   "source": [
    "#eval() 可以放入「一行字串」，並把輸入的字串，轉換成可執行的程式碼後並執行\n",
    "\n",
    "source_value = eval(input(\"請輸入任意數:\"))\n",
    "value = source_value\n",
    "value **= 2\n",
    "print(f\"您輸入的數值是:{source_value}, 平方值是:{value}\")\n",
    "\n",
    "value = source_value\n",
    "value **= 3\n",
    "print(f\"您輸入的數值是:{source_value}, 立方值是:{value}\")"
   ]
  },
  {
   "cell_type": "code",
   "execution_count": 24,
   "metadata": {},
   "outputs": [
    {
     "name": "stdout",
     "output_type": "stream",
     "text": [
      "您輸入的數值是:10, 平方值是:100\n",
      "您輸入的數值是:10, 立方值是:1000\n"
     ]
    }
   ],
   "source": [
    "value = eval(input(\"請輸入任意數:\"))\n",
    "\n",
    "print(f\"您輸入的數值是:{value}, 平方值是:{value ** 2}\")\n",
    "\n",
    "print(f\"您輸入的數值是:{value}, 立方值是:{value **3}\")"
   ]
  },
  {
   "cell_type": "markdown",
   "metadata": {},
   "source": [
    "### 請以(複合指定運算子)設計程式，請使用者輸入三個任意數，程式會顯示3數相加的總和(float)"
   ]
  },
  {
   "cell_type": "code",
   "execution_count": 25,
   "metadata": {},
   "outputs": [
    {
     "name": "stdout",
     "output_type": "stream",
     "text": [
      "1+2+3=6\n"
     ]
    }
   ],
   "source": [
    "n1 = eval(input(\"請輸入第一個數:\"))\n",
    "n2 = eval(input(\"請輸入第二個數:\"))\n",
    "n3 = eval(input(\"請輸入第三個數:\"))\n",
    "\n",
    "total = n1 + n2 + n3\n",
    "print(f'{n1}+{n2}+{n3}={round(total,ndigits = 2)}')"
   ]
  },
  {
   "cell_type": "code",
   "execution_count": 31,
   "metadata": {},
   "outputs": [
    {
     "name": "stdout",
     "output_type": "stream",
     "text": [
      "第一個數=158.365\n",
      "第二個數=24.234\n",
      "第三個數=1543.22\n",
      "總和是1725.82\n"
     ]
    }
   ],
   "source": [
    "total = 0\n",
    "n = eval(input(\"請輸入第一個數:\"))\n",
    "total += n\n",
    "print(f\"第一個數={n}\")\n",
    "\n",
    "n = eval(input(\"請輸入第二個數\"))\n",
    "total += n\n",
    "print(f\"第二個數={n}\")\n",
    "\n",
    "n = eval(input(\"請輸入第二個數\"))\n",
    "total += n\n",
    "print(f\"第三個數={n}\")\n",
    "\n",
    "print(f\"總和是{round(total, ndigits = 2)}\")"
   ]
  },
  {
   "cell_type": "markdown",
   "metadata": {},
   "source": [
    "### 讓使用者輸入直角三角形的對邊\n",
    "### 讓使用者輸入直角三角形的斜邊\n",
    "### 計算角度"
   ]
  },
  {
   "cell_type": "markdown",
   "metadata": {},
   "source": [
    "### 公式:\n",
    "- sin(x) = 對邊 / 斜邊\n",
    "- x是radian(弧度)"
   ]
  },
  {
   "cell_type": "code",
   "execution_count": 33,
   "metadata": {},
   "outputs": [
    {
     "name": "stdout",
     "output_type": "stream",
     "text": [
      "對邊長:2.5\n",
      "斜邊長:5\n",
      "角度為:30.0\n"
     ]
    }
   ],
   "source": [
    "import math\n",
    "\n",
    "side = eval(input(\"請輸入對邊:\"))\n",
    "ano_side = eval(input(\"請輸入斜邊:\"))\n",
    "\n",
    "print(f\"對邊長:{side}\")\n",
    "print(f\"斜邊長:{ano_side}\")\n",
    "\n",
    "radian = math.asin(side/ano_side)\n",
    "degrees = round(math.degrees(radian), ndigits = 2)\n",
    "\n",
    "print(f\"角度為:{degrees}\")\n"
   ]
  },
  {
   "cell_type": "markdown",
   "metadata": {},
   "source": [
    "### 讓使用者輸入梯形的上底、下底及高，程式會計算梯形的面積(上底加下底乘以高除以2)\n",
    "\n",
    "輸入:(可以輸入整數和浮點數)\n",
    "請輸入梯形的上底(公分):5\n",
    "請輸入梯形的下底(公分):10\n",
    "請輸入梯形的高(公分):2\n",
    "\n",
    "輸出:\n",
    "梯形的上底15公分,下底10公分,高2公分\n",
    "梯形的面積:xxx平方公分"
   ]
  },
  {
   "cell_type": "code",
   "execution_count": 1,
   "metadata": {},
   "outputs": [
    {
     "name": "stdout",
     "output_type": "stream",
     "text": [
      "梯形的上底:15\n",
      "梯形的下底:10\n",
      "梯形的高:2\n",
      "梯形的面積為:25.0平方公分\n"
     ]
    }
   ],
   "source": [
    "upside = eval(input(\"請輸入梯形的上底:\"))\n",
    "downside = eval(input(\"請輸入梯形的下底:\"))\n",
    "high = eval(input(\"請輸入梯形的高:\"))\n",
    "\n",
    "print(f\"梯形的上底:{upside}\")\n",
    "print(f\"梯形的下底:{downside}\")\n",
    "print(f\"梯形的高:{high}\")\n",
    "\n",
    "print(f\"梯形的面積為:{(upside + downside) * high/2}平方公分\")\n",
    "\n"
   ]
  },
  {
   "cell_type": "code",
   "execution_count": null,
   "metadata": {},
   "outputs": [],
   "source": []
  }
 ],
 "metadata": {
  "kernelspec": {
   "display_name": "Python 3",
   "language": "python",
   "name": "python3"
  },
  "language_info": {
   "codemirror_mode": {
    "name": "ipython",
    "version": 3
   },
   "file_extension": ".py",
   "mimetype": "text/x-python",
   "name": "python",
   "nbconvert_exporter": "python",
   "pygments_lexer": "ipython3",
   "version": "3.10.14"
  }
 },
 "nbformat": 4,
 "nbformat_minor": 2
}
